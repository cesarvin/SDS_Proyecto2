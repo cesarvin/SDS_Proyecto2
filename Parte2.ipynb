{
 "cells": [
  {
   "cell_type": "markdown",
   "metadata": {},
   "source": [
    "# Proyecto 1\n",
    "## Security Data Science\n",
    "* César Rodas 16776\n",
    "* Mario Andrés Perdomo "
   ]
  },
  {
   "cell_type": "markdown",
   "metadata": {},
   "source": [
    "### Librerías"
   ]
  },
  {
   "cell_type": "code",
   "execution_count": 1,
   "metadata": {},
   "outputs": [
    {
     "name": "stdout",
     "output_type": "stream",
     "text": [
      "Defaulting to user installation because normal site-packages is not writeable\n",
      "Requirement already satisfied: pandas_profiling in c:\\users\\cesarvin\\appdata\\roaming\\python\\python310\\site-packages (3.1.0)\n",
      "Requirement already satisfied: missingno>=0.4.2 in c:\\users\\cesarvin\\appdata\\roaming\\python\\python310\\site-packages (from pandas_profiling) (0.5.1)\n",
      "Requirement already satisfied: markupsafe~=2.0.1 in c:\\users\\cesarvin\\appdata\\roaming\\python\\python310\\site-packages (from pandas_profiling) (2.0.1)\n",
      "Requirement already satisfied: requests>=2.24.0 in c:\\users\\cesarvin\\appdata\\roaming\\python\\python310\\site-packages (from pandas_profiling) (2.27.1)\n",
      "Requirement already satisfied: pydantic>=1.8.1 in c:\\users\\cesarvin\\appdata\\roaming\\python\\python310\\site-packages (from pandas_profiling) (1.9.0)\n",
      "Requirement already satisfied: pandas!=1.0.0,!=1.0.1,!=1.0.2,!=1.1.0,>=0.25.3 in c:\\users\\cesarvin\\appdata\\roaming\\python\\python310\\site-packages (from pandas_profiling) (1.4.2)\n",
      "Requirement already satisfied: numpy>=1.16.0 in c:\\users\\cesarvin\\appdata\\roaming\\python\\python310\\site-packages (from pandas_profiling) (1.22.3)\n",
      "Requirement already satisfied: phik>=0.11.1 in c:\\users\\cesarvin\\appdata\\roaming\\python\\python310\\site-packages (from pandas_profiling) (0.12.2)\n",
      "Requirement already satisfied: matplotlib>=3.2.0 in c:\\users\\cesarvin\\appdata\\roaming\\python\\python310\\site-packages (from pandas_profiling) (3.5.1)\n",
      "Requirement already satisfied: PyYAML>=5.0.0 in c:\\users\\cesarvin\\appdata\\roaming\\python\\python310\\site-packages (from pandas_profiling) (6.0)\n",
      "Requirement already satisfied: tangled-up-in-unicode==0.1.0 in c:\\users\\cesarvin\\appdata\\roaming\\python\\python310\\site-packages (from pandas_profiling) (0.1.0)\n",
      "Requirement already satisfied: jinja2>=2.11.1 in c:\\users\\cesarvin\\appdata\\roaming\\python\\python310\\site-packages (from pandas_profiling) (3.1.1)\n",
      "Requirement already satisfied: visions[type_image_path]==0.7.4 in c:\\users\\cesarvin\\appdata\\roaming\\python\\python310\\site-packages (from pandas_profiling) (0.7.4)\n",
      "Requirement already satisfied: seaborn>=0.10.1 in c:\\users\\cesarvin\\appdata\\roaming\\python\\python310\\site-packages (from pandas_profiling) (0.11.2)\n",
      "Requirement already satisfied: joblib~=1.0.1 in c:\\users\\cesarvin\\appdata\\roaming\\python\\python310\\site-packages (from pandas_profiling) (1.0.1)\n",
      "Requirement already satisfied: htmlmin>=0.1.12 in c:\\users\\cesarvin\\appdata\\roaming\\python\\python310\\site-packages (from pandas_profiling) (0.1.12)\n",
      "Requirement already satisfied: multimethod>=1.4 in c:\\users\\cesarvin\\appdata\\roaming\\python\\python310\\site-packages (from pandas_profiling) (1.8)\n",
      "Requirement already satisfied: scipy>=1.4.1 in c:\\users\\cesarvin\\appdata\\roaming\\python\\python310\\site-packages (from pandas_profiling) (1.8.0)\n",
      "Requirement already satisfied: tqdm>=4.48.2 in c:\\users\\cesarvin\\appdata\\roaming\\python\\python310\\site-packages (from pandas_profiling) (4.64.0)\n",
      "Requirement already satisfied: attrs>=19.3.0 in c:\\users\\cesarvin\\appdata\\roaming\\python\\python310\\site-packages (from visions[type_image_path]==0.7.4->pandas_profiling) (21.4.0)\n",
      "Requirement already satisfied: networkx>=2.4 in c:\\users\\cesarvin\\appdata\\roaming\\python\\python310\\site-packages (from visions[type_image_path]==0.7.4->pandas_profiling) (2.8)\n",
      "Requirement already satisfied: imagehash in c:\\users\\cesarvin\\appdata\\roaming\\python\\python310\\site-packages (from visions[type_image_path]==0.7.4->pandas_profiling) (4.2.1)\n",
      "Requirement already satisfied: Pillow in c:\\users\\cesarvin\\appdata\\roaming\\python\\python310\\site-packages (from visions[type_image_path]==0.7.4->pandas_profiling) (9.1.0)\n",
      "Requirement already satisfied: fonttools>=4.22.0 in c:\\users\\cesarvin\\appdata\\roaming\\python\\python310\\site-packages (from matplotlib>=3.2.0->pandas_profiling) (4.32.0)\n",
      "Requirement already satisfied: python-dateutil>=2.7 in c:\\users\\cesarvin\\appdata\\roaming\\python\\python310\\site-packages (from matplotlib>=3.2.0->pandas_profiling) (2.8.2)\n",
      "Requirement already satisfied: cycler>=0.10 in c:\\users\\cesarvin\\appdata\\roaming\\python\\python310\\site-packages (from matplotlib>=3.2.0->pandas_profiling) (0.11.0)\n",
      "Requirement already satisfied: packaging>=20.0 in c:\\users\\cesarvin\\appdata\\roaming\\python\\python310\\site-packages (from matplotlib>=3.2.0->pandas_profiling) (21.3)\n",
      "Requirement already satisfied: pyparsing>=2.2.1 in c:\\users\\cesarvin\\appdata\\roaming\\python\\python310\\site-packages (from matplotlib>=3.2.0->pandas_profiling) (3.0.7)\n",
      "Requirement already satisfied: kiwisolver>=1.0.1 in c:\\users\\cesarvin\\appdata\\roaming\\python\\python310\\site-packages (from matplotlib>=3.2.0->pandas_profiling) (1.4.2)\n",
      "Requirement already satisfied: pytz>=2020.1 in c:\\users\\cesarvin\\appdata\\roaming\\python\\python310\\site-packages (from pandas!=1.0.0,!=1.0.1,!=1.0.2,!=1.1.0,>=0.25.3->pandas_profiling) (2022.1)\n",
      "Requirement already satisfied: typing-extensions>=3.7.4.3 in c:\\users\\cesarvin\\appdata\\roaming\\python\\python310\\site-packages (from pydantic>=1.8.1->pandas_profiling) (4.1.1)\n",
      "Requirement already satisfied: certifi>=2017.4.17 in c:\\users\\cesarvin\\appdata\\roaming\\python\\python310\\site-packages (from requests>=2.24.0->pandas_profiling) (2021.10.8)\n",
      "Requirement already satisfied: urllib3<1.27,>=1.21.1 in c:\\users\\cesarvin\\appdata\\roaming\\python\\python310\\site-packages (from requests>=2.24.0->pandas_profiling) (1.26.9)\n",
      "Requirement already satisfied: charset-normalizer~=2.0.0 in c:\\users\\cesarvin\\appdata\\roaming\\python\\python310\\site-packages (from requests>=2.24.0->pandas_profiling) (2.0.12)\n",
      "Requirement already satisfied: idna<4,>=2.5 in c:\\users\\cesarvin\\appdata\\roaming\\python\\python310\\site-packages (from requests>=2.24.0->pandas_profiling) (3.3)\n",
      "Requirement already satisfied: colorama in c:\\users\\cesarvin\\appdata\\roaming\\python\\python310\\site-packages (from tqdm>=4.48.2->pandas_profiling) (0.4.4)\n",
      "Requirement already satisfied: six>=1.5 in c:\\users\\cesarvin\\appdata\\roaming\\python\\python310\\site-packages (from python-dateutil>=2.7->matplotlib>=3.2.0->pandas_profiling) (1.16.0)\n",
      "Requirement already satisfied: PyWavelets in c:\\users\\cesarvin\\appdata\\roaming\\python\\python310\\site-packages (from imagehash->visions[type_image_path]==0.7.4->pandas_profiling) (1.3.0)\n",
      "Defaulting to user installation because normal site-packages is not writeable\n",
      "Requirement already satisfied: sklearn in c:\\users\\cesarvin\\appdata\\roaming\\python\\python310\\site-packages (0.0)\n",
      "Requirement already satisfied: scikit-learn in c:\\users\\cesarvin\\appdata\\roaming\\python\\python310\\site-packages (from sklearn) (1.0.2)\n",
      "Requirement already satisfied: threadpoolctl>=2.0.0 in c:\\users\\cesarvin\\appdata\\roaming\\python\\python310\\site-packages (from scikit-learn->sklearn) (3.1.0)\n",
      "Requirement already satisfied: joblib>=0.11 in c:\\users\\cesarvin\\appdata\\roaming\\python\\python310\\site-packages (from scikit-learn->sklearn) (1.0.1)\n",
      "Requirement already satisfied: numpy>=1.14.6 in c:\\users\\cesarvin\\appdata\\roaming\\python\\python310\\site-packages (from scikit-learn->sklearn) (1.22.3)\n",
      "Requirement already satisfied: scipy>=1.1.0 in c:\\users\\cesarvin\\appdata\\roaming\\python\\python310\\site-packages (from scikit-learn->sklearn) (1.8.0)\n"
     ]
    },
    {
     "name": "stderr",
     "output_type": "stream",
     "text": [
      "C:\\Users\\cesarvin\\AppData\\Roaming\\Python\\Python310\\site-packages\\tqdm\\auto.py:22: TqdmWarning: IProgress not found. Please update jupyter and ipywidgets. See https://ipywidgets.readthedocs.io/en/stable/user_install.html\n",
      "  from .autonotebook import tqdm as notebook_tqdm\n"
     ]
    }
   ],
   "source": [
    "import pandas as pd\n",
    "import numpy as np\n",
    "%matplotlib agg\n",
    "import matplotlib.pyplot as plt\n",
    "import seaborn as sns\n",
    "\n",
    "#!{sys.executable} -m pip install pandas_profiling\n",
    "!pip install pandas_profiling\n",
    "!pip install sklearn\n",
    "import pandas_profiling as pp\n",
    "from pandas_profiling import ProfileReport\n",
    "\n",
    "import sklearn\n",
    "from sklearn import metrics, model_selection, tree\n",
    "\n",
    "from urllib.parse import urlparse"
   ]
  },
  {
   "cell_type": "markdown",
   "metadata": {},
   "source": [
    "## Parte 2"
   ]
  },
  {
   "cell_type": "markdown",
   "metadata": {},
   "source": [
    "### Separación de datos"
   ]
  },
  {
   "cell_type": "code",
   "execution_count": 2,
   "metadata": {},
   "outputs": [],
   "source": [
    "df = pd.read_csv('clean_train.csv')"
   ]
  },
  {
   "cell_type": "code",
   "execution_count": 3,
   "metadata": {},
   "outputs": [
    {
     "name": "stdout",
     "output_type": "stream",
     "text": [
      "<class 'pandas.core.frame.DataFrame'>\n",
      "RangeIndex: 8588801 entries, 0 to 8588800\n",
      "Data columns (total 50 columns):\n",
      " #   Column                                             Dtype\n",
      "---  ------                                             -----\n",
      " 0   ProductName                                        int64\n",
      " 1   IsBeta                                             int64\n",
      " 2   RtpStateBitfield                                   int64\n",
      " 3   IsSxsPassiveMode                                   int64\n",
      " 4   AVProductStatesIdentifier                          int64\n",
      " 5   AVProductsInstalled                                int64\n",
      " 6   AVProductsEnabled                                  int64\n",
      " 7   HasTpm                                             int64\n",
      " 8   CountryIdentifier                                  int64\n",
      " 9   GeoNameIdentifier                                  int64\n",
      " 10  LocaleEnglishNameIdentifier                        int64\n",
      " 11  Platform                                           int64\n",
      " 12  Processor                                          int64\n",
      " 13  OsBuild                                            int64\n",
      " 14  OsSuite                                            int64\n",
      " 15  OsPlatformSubRelease                               int64\n",
      " 16  SkuEdition                                         int64\n",
      " 17  IsProtected                                        int64\n",
      " 18  AutoSampleOptIn                                    int64\n",
      " 19  IeVerIdentifier                                    int64\n",
      " 20  UacLuaenable                                       int64\n",
      " 21  Census_MDC2FormFactor                              int64\n",
      " 22  Census_DeviceFamily                                int64\n",
      " 23  Census_ProcessorCoreCount                          int64\n",
      " 24  Census_ProcessorManufacturerIdentifier             int64\n",
      " 25  Census_ProcessorModelIdentifier                    int64\n",
      " 26  Census_PrimaryDiskTotalCapacity                    int64\n",
      " 27  Census_PrimaryDiskTypeName                         int64\n",
      " 28  Census_SystemVolumeTotalCapacity                   int64\n",
      " 29  Census_HasOpticalDiskDrive                         int64\n",
      " 30  Census_InternalPrimaryDiagonalDisplaySizeInInches  int64\n",
      " 31  Census_InternalPrimaryDisplayResolutionHorizontal  int64\n",
      " 32  Census_InternalPrimaryDisplayResolutionVertical    int64\n",
      " 33  Census_PowerPlatformRoleName                       int64\n",
      " 34  Census_OSArchitecture                              int64\n",
      " 35  Census_OSBuildNumber                               int64\n",
      " 36  Census_OSBuildRevision                             int64\n",
      " 37  Census_OSInstallLanguageIdentifier                 int64\n",
      " 38  Census_OSUILocaleIdentifier                        int64\n",
      " 39  Census_OSWUAutoUpdateOptionsName                   int64\n",
      " 40  Census_IsPortableOperatingSystem                   int64\n",
      " 41  Census_GenuineStateName                            int64\n",
      " 42  Census_ActivationChannel                           int64\n",
      " 43  Census_FlightRing                                  int64\n",
      " 44  Census_IsSecureBootEnabled                         int64\n",
      " 45  Census_IsVirtualDevice                             int64\n",
      " 46  Census_IsTouchEnabled                              int64\n",
      " 47  Census_IsPenCapable                                int64\n",
      " 48  Census_IsAlwaysOnAlwaysConnectedCapable            int64\n",
      " 49  HasDetections                                      int64\n",
      "dtypes: int64(50)\n",
      "memory usage: 3.2 GB\n"
     ]
    }
   ],
   "source": [
    "df.info()"
   ]
  },
  {
   "cell_type": "code",
   "execution_count": 4,
   "metadata": {},
   "outputs": [
    {
     "data": {
      "text/html": [
       "<div>\n",
       "<style scoped>\n",
       "    .dataframe tbody tr th:only-of-type {\n",
       "        vertical-align: middle;\n",
       "    }\n",
       "\n",
       "    .dataframe tbody tr th {\n",
       "        vertical-align: top;\n",
       "    }\n",
       "\n",
       "    .dataframe thead th {\n",
       "        text-align: right;\n",
       "    }\n",
       "</style>\n",
       "<table border=\"1\" class=\"dataframe\">\n",
       "  <thead>\n",
       "    <tr style=\"text-align: right;\">\n",
       "      <th></th>\n",
       "      <th>ProductName</th>\n",
       "      <th>IsBeta</th>\n",
       "      <th>RtpStateBitfield</th>\n",
       "      <th>IsSxsPassiveMode</th>\n",
       "      <th>AVProductStatesIdentifier</th>\n",
       "      <th>AVProductsInstalled</th>\n",
       "      <th>AVProductsEnabled</th>\n",
       "      <th>HasTpm</th>\n",
       "      <th>CountryIdentifier</th>\n",
       "      <th>GeoNameIdentifier</th>\n",
       "      <th>...</th>\n",
       "      <th>Census_IsPortableOperatingSystem</th>\n",
       "      <th>Census_GenuineStateName</th>\n",
       "      <th>Census_ActivationChannel</th>\n",
       "      <th>Census_FlightRing</th>\n",
       "      <th>Census_IsSecureBootEnabled</th>\n",
       "      <th>Census_IsVirtualDevice</th>\n",
       "      <th>Census_IsTouchEnabled</th>\n",
       "      <th>Census_IsPenCapable</th>\n",
       "      <th>Census_IsAlwaysOnAlwaysConnectedCapable</th>\n",
       "      <th>HasDetections</th>\n",
       "    </tr>\n",
       "  </thead>\n",
       "  <tbody>\n",
       "    <tr>\n",
       "      <th>0</th>\n",
       "      <td>0</td>\n",
       "      <td>0</td>\n",
       "      <td>7</td>\n",
       "      <td>0</td>\n",
       "      <td>53447</td>\n",
       "      <td>1</td>\n",
       "      <td>1</td>\n",
       "      <td>1</td>\n",
       "      <td>29</td>\n",
       "      <td>35</td>\n",
       "      <td>...</td>\n",
       "      <td>0</td>\n",
       "      <td>0</td>\n",
       "      <td>0</td>\n",
       "      <td>0</td>\n",
       "      <td>0</td>\n",
       "      <td>0</td>\n",
       "      <td>0</td>\n",
       "      <td>0</td>\n",
       "      <td>0</td>\n",
       "      <td>0</td>\n",
       "    </tr>\n",
       "    <tr>\n",
       "      <th>1</th>\n",
       "      <td>0</td>\n",
       "      <td>0</td>\n",
       "      <td>7</td>\n",
       "      <td>0</td>\n",
       "      <td>53447</td>\n",
       "      <td>1</td>\n",
       "      <td>1</td>\n",
       "      <td>1</td>\n",
       "      <td>93</td>\n",
       "      <td>119</td>\n",
       "      <td>...</td>\n",
       "      <td>0</td>\n",
       "      <td>2</td>\n",
       "      <td>0</td>\n",
       "      <td>1</td>\n",
       "      <td>0</td>\n",
       "      <td>0</td>\n",
       "      <td>0</td>\n",
       "      <td>0</td>\n",
       "      <td>0</td>\n",
       "      <td>0</td>\n",
       "    </tr>\n",
       "    <tr>\n",
       "      <th>2</th>\n",
       "      <td>0</td>\n",
       "      <td>0</td>\n",
       "      <td>7</td>\n",
       "      <td>0</td>\n",
       "      <td>53447</td>\n",
       "      <td>1</td>\n",
       "      <td>1</td>\n",
       "      <td>1</td>\n",
       "      <td>86</td>\n",
       "      <td>64</td>\n",
       "      <td>...</td>\n",
       "      <td>0</td>\n",
       "      <td>0</td>\n",
       "      <td>3</td>\n",
       "      <td>0</td>\n",
       "      <td>0</td>\n",
       "      <td>0</td>\n",
       "      <td>0</td>\n",
       "      <td>0</td>\n",
       "      <td>0</td>\n",
       "      <td>0</td>\n",
       "    </tr>\n",
       "    <tr>\n",
       "      <th>3</th>\n",
       "      <td>0</td>\n",
       "      <td>0</td>\n",
       "      <td>7</td>\n",
       "      <td>0</td>\n",
       "      <td>53447</td>\n",
       "      <td>1</td>\n",
       "      <td>1</td>\n",
       "      <td>1</td>\n",
       "      <td>88</td>\n",
       "      <td>117</td>\n",
       "      <td>...</td>\n",
       "      <td>0</td>\n",
       "      <td>0</td>\n",
       "      <td>3</td>\n",
       "      <td>0</td>\n",
       "      <td>0</td>\n",
       "      <td>0</td>\n",
       "      <td>0</td>\n",
       "      <td>0</td>\n",
       "      <td>0</td>\n",
       "      <td>1</td>\n",
       "    </tr>\n",
       "    <tr>\n",
       "      <th>4</th>\n",
       "      <td>0</td>\n",
       "      <td>0</td>\n",
       "      <td>7</td>\n",
       "      <td>0</td>\n",
       "      <td>53447</td>\n",
       "      <td>1</td>\n",
       "      <td>1</td>\n",
       "      <td>1</td>\n",
       "      <td>18</td>\n",
       "      <td>277</td>\n",
       "      <td>...</td>\n",
       "      <td>0</td>\n",
       "      <td>0</td>\n",
       "      <td>0</td>\n",
       "      <td>0</td>\n",
       "      <td>0</td>\n",
       "      <td>0</td>\n",
       "      <td>0</td>\n",
       "      <td>0</td>\n",
       "      <td>0</td>\n",
       "      <td>1</td>\n",
       "    </tr>\n",
       "    <tr>\n",
       "      <th>5</th>\n",
       "      <td>0</td>\n",
       "      <td>0</td>\n",
       "      <td>7</td>\n",
       "      <td>0</td>\n",
       "      <td>53447</td>\n",
       "      <td>1</td>\n",
       "      <td>1</td>\n",
       "      <td>1</td>\n",
       "      <td>97</td>\n",
       "      <td>126</td>\n",
       "      <td>...</td>\n",
       "      <td>0</td>\n",
       "      <td>0</td>\n",
       "      <td>0</td>\n",
       "      <td>0</td>\n",
       "      <td>0</td>\n",
       "      <td>0</td>\n",
       "      <td>0</td>\n",
       "      <td>0</td>\n",
       "      <td>0</td>\n",
       "      <td>1</td>\n",
       "    </tr>\n",
       "    <tr>\n",
       "      <th>6</th>\n",
       "      <td>0</td>\n",
       "      <td>0</td>\n",
       "      <td>7</td>\n",
       "      <td>0</td>\n",
       "      <td>43927</td>\n",
       "      <td>2</td>\n",
       "      <td>1</td>\n",
       "      <td>1</td>\n",
       "      <td>78</td>\n",
       "      <td>89</td>\n",
       "      <td>...</td>\n",
       "      <td>0</td>\n",
       "      <td>0</td>\n",
       "      <td>0</td>\n",
       "      <td>0</td>\n",
       "      <td>1</td>\n",
       "      <td>0</td>\n",
       "      <td>0</td>\n",
       "      <td>0</td>\n",
       "      <td>0</td>\n",
       "      <td>1</td>\n",
       "    </tr>\n",
       "    <tr>\n",
       "      <th>7</th>\n",
       "      <td>0</td>\n",
       "      <td>0</td>\n",
       "      <td>7</td>\n",
       "      <td>0</td>\n",
       "      <td>53447</td>\n",
       "      <td>1</td>\n",
       "      <td>1</td>\n",
       "      <td>1</td>\n",
       "      <td>97</td>\n",
       "      <td>126</td>\n",
       "      <td>...</td>\n",
       "      <td>0</td>\n",
       "      <td>0</td>\n",
       "      <td>0</td>\n",
       "      <td>0</td>\n",
       "      <td>0</td>\n",
       "      <td>0</td>\n",
       "      <td>0</td>\n",
       "      <td>0</td>\n",
       "      <td>0</td>\n",
       "      <td>0</td>\n",
       "    </tr>\n",
       "    <tr>\n",
       "      <th>8</th>\n",
       "      <td>0</td>\n",
       "      <td>0</td>\n",
       "      <td>7</td>\n",
       "      <td>0</td>\n",
       "      <td>53447</td>\n",
       "      <td>1</td>\n",
       "      <td>1</td>\n",
       "      <td>1</td>\n",
       "      <td>164</td>\n",
       "      <td>205</td>\n",
       "      <td>...</td>\n",
       "      <td>0</td>\n",
       "      <td>0</td>\n",
       "      <td>0</td>\n",
       "      <td>0</td>\n",
       "      <td>0</td>\n",
       "      <td>0</td>\n",
       "      <td>0</td>\n",
       "      <td>0</td>\n",
       "      <td>0</td>\n",
       "      <td>0</td>\n",
       "    </tr>\n",
       "    <tr>\n",
       "      <th>9</th>\n",
       "      <td>0</td>\n",
       "      <td>0</td>\n",
       "      <td>7</td>\n",
       "      <td>0</td>\n",
       "      <td>53447</td>\n",
       "      <td>1</td>\n",
       "      <td>1</td>\n",
       "      <td>1</td>\n",
       "      <td>107</td>\n",
       "      <td>138</td>\n",
       "      <td>...</td>\n",
       "      <td>0</td>\n",
       "      <td>0</td>\n",
       "      <td>0</td>\n",
       "      <td>0</td>\n",
       "      <td>0</td>\n",
       "      <td>0</td>\n",
       "      <td>1</td>\n",
       "      <td>1</td>\n",
       "      <td>1</td>\n",
       "      <td>0</td>\n",
       "    </tr>\n",
       "  </tbody>\n",
       "</table>\n",
       "<p>10 rows × 50 columns</p>\n",
       "</div>"
      ],
      "text/plain": [
       "   ProductName  IsBeta  RtpStateBitfield  IsSxsPassiveMode  \\\n",
       "0            0       0                 7                 0   \n",
       "1            0       0                 7                 0   \n",
       "2            0       0                 7                 0   \n",
       "3            0       0                 7                 0   \n",
       "4            0       0                 7                 0   \n",
       "5            0       0                 7                 0   \n",
       "6            0       0                 7                 0   \n",
       "7            0       0                 7                 0   \n",
       "8            0       0                 7                 0   \n",
       "9            0       0                 7                 0   \n",
       "\n",
       "   AVProductStatesIdentifier  AVProductsInstalled  AVProductsEnabled  HasTpm  \\\n",
       "0                      53447                    1                  1       1   \n",
       "1                      53447                    1                  1       1   \n",
       "2                      53447                    1                  1       1   \n",
       "3                      53447                    1                  1       1   \n",
       "4                      53447                    1                  1       1   \n",
       "5                      53447                    1                  1       1   \n",
       "6                      43927                    2                  1       1   \n",
       "7                      53447                    1                  1       1   \n",
       "8                      53447                    1                  1       1   \n",
       "9                      53447                    1                  1       1   \n",
       "\n",
       "   CountryIdentifier  GeoNameIdentifier  ...  \\\n",
       "0                 29                 35  ...   \n",
       "1                 93                119  ...   \n",
       "2                 86                 64  ...   \n",
       "3                 88                117  ...   \n",
       "4                 18                277  ...   \n",
       "5                 97                126  ...   \n",
       "6                 78                 89  ...   \n",
       "7                 97                126  ...   \n",
       "8                164                205  ...   \n",
       "9                107                138  ...   \n",
       "\n",
       "   Census_IsPortableOperatingSystem  Census_GenuineStateName  \\\n",
       "0                                 0                        0   \n",
       "1                                 0                        2   \n",
       "2                                 0                        0   \n",
       "3                                 0                        0   \n",
       "4                                 0                        0   \n",
       "5                                 0                        0   \n",
       "6                                 0                        0   \n",
       "7                                 0                        0   \n",
       "8                                 0                        0   \n",
       "9                                 0                        0   \n",
       "\n",
       "   Census_ActivationChannel  Census_FlightRing  Census_IsSecureBootEnabled  \\\n",
       "0                         0                  0                           0   \n",
       "1                         0                  1                           0   \n",
       "2                         3                  0                           0   \n",
       "3                         3                  0                           0   \n",
       "4                         0                  0                           0   \n",
       "5                         0                  0                           0   \n",
       "6                         0                  0                           1   \n",
       "7                         0                  0                           0   \n",
       "8                         0                  0                           0   \n",
       "9                         0                  0                           0   \n",
       "\n",
       "   Census_IsVirtualDevice  Census_IsTouchEnabled  Census_IsPenCapable  \\\n",
       "0                       0                      0                    0   \n",
       "1                       0                      0                    0   \n",
       "2                       0                      0                    0   \n",
       "3                       0                      0                    0   \n",
       "4                       0                      0                    0   \n",
       "5                       0                      0                    0   \n",
       "6                       0                      0                    0   \n",
       "7                       0                      0                    0   \n",
       "8                       0                      0                    0   \n",
       "9                       0                      1                    1   \n",
       "\n",
       "   Census_IsAlwaysOnAlwaysConnectedCapable  HasDetections  \n",
       "0                                        0              0  \n",
       "1                                        0              0  \n",
       "2                                        0              0  \n",
       "3                                        0              1  \n",
       "4                                        0              1  \n",
       "5                                        0              1  \n",
       "6                                        0              1  \n",
       "7                                        0              0  \n",
       "8                                        0              0  \n",
       "9                                        1              0  \n",
       "\n",
       "[10 rows x 50 columns]"
      ]
     },
     "execution_count": 4,
     "metadata": {},
     "output_type": "execute_result"
    }
   ],
   "source": [
    "df.head(10)"
   ]
  },
  {
   "cell_type": "code",
   "execution_count": 5,
   "metadata": {},
   "outputs": [],
   "source": [
    "def reduce_mem_usage(df, verbose=True):\n",
    "    numerics = ['int16', 'int32', 'int64', 'float16', 'float32', 'float64']\n",
    "    start_mem = df.memory_usage().sum() / 1024**2\n",
    "    for col in df.columns:\n",
    "        col_type = df[col].dtypes\n",
    "        if col_type in numerics:\n",
    "            c_min = df[col].min()\n",
    "            c_max = df[col].max()\n",
    "            if str(col_type)[:3] == 'int':\n",
    "                if c_min > np.iinfo(np.int8).min and c_max < np.iinfo(np.int8).max:\n",
    "                    df[col] = df[col].astype(np.int8)\n",
    "                elif c_min > np.iinfo(np.int16).min and c_max < np.iinfo(np.int16).max:\n",
    "                    df[col] = df[col].astype(np.int16)\n",
    "                elif c_min > np.iinfo(np.int32).min and c_max < np.iinfo(np.int32).max:\n",
    "                    df[col] = df[col].astype(np.int32)\n",
    "                elif c_min > np.iinfo(np.int64).min and c_max < np.iinfo(np.int64).max:\n",
    "                    df[col] = df[col].astype(np.int64)\n",
    "            else:\n",
    "                if c_min > np.finfo(np.float16).min and c_max < np.finfo(np.float16).max:\n",
    "                    df[col] = df[col].astype(np.float16)\n",
    "                elif c_min > np.finfo(np.float32).min and c_max < np.finfo(np.float32).max:\n",
    "                    df[col] = df[col].astype(np.float32)\n",
    "                else:\n",
    "                    df[col] = df[col].astype(np.float64)\n",
    "\n",
    "    end_mem = df.memory_usage().sum() / 1024**2\n",
    "    print('Memory usage after optimization is: {:.2f} MB'.format(end_mem))\n",
    "    print('Decreased by {:.1f}%'.format(100 * (start_mem - end_mem) / start_mem))\n",
    "\n",
    "    return df"
   ]
  },
  {
   "cell_type": "code",
   "execution_count": 6,
   "metadata": {},
   "outputs": [
    {
     "name": "stdout",
     "output_type": "stream",
     "text": [
      "Memory usage after optimization is: 655.27 MB\n",
      "Decreased by 80.0%\n"
     ]
    }
   ],
   "source": [
    "df = reduce_mem_usage(df)\n"
   ]
  },
  {
   "cell_type": "code",
   "execution_count": 7,
   "metadata": {},
   "outputs": [
    {
     "name": "stdout",
     "output_type": "stream",
     "text": [
      "<class 'pandas.core.frame.DataFrame'>\n",
      "RangeIndex: 8588801 entries, 0 to 8588800\n",
      "Data columns (total 50 columns):\n",
      " #   Column                                             Dtype\n",
      "---  ------                                             -----\n",
      " 0   ProductName                                        int8 \n",
      " 1   IsBeta                                             int8 \n",
      " 2   RtpStateBitfield                                   int8 \n",
      " 3   IsSxsPassiveMode                                   int8 \n",
      " 4   AVProductStatesIdentifier                          int32\n",
      " 5   AVProductsInstalled                                int8 \n",
      " 6   AVProductsEnabled                                  int8 \n",
      " 7   HasTpm                                             int8 \n",
      " 8   CountryIdentifier                                  int16\n",
      " 9   GeoNameIdentifier                                  int16\n",
      " 10  LocaleEnglishNameIdentifier                        int16\n",
      " 11  Platform                                           int8 \n",
      " 12  Processor                                          int8 \n",
      " 13  OsBuild                                            int16\n",
      " 14  OsSuite                                            int16\n",
      " 15  OsPlatformSubRelease                               int8 \n",
      " 16  SkuEdition                                         int8 \n",
      " 17  IsProtected                                        int8 \n",
      " 18  AutoSampleOptIn                                    int8 \n",
      " 19  IeVerIdentifier                                    int16\n",
      " 20  UacLuaenable                                       int32\n",
      " 21  Census_MDC2FormFactor                              int8 \n",
      " 22  Census_DeviceFamily                                int8 \n",
      " 23  Census_ProcessorCoreCount                          int16\n",
      " 24  Census_ProcessorManufacturerIdentifier             int8 \n",
      " 25  Census_ProcessorModelIdentifier                    int16\n",
      " 26  Census_PrimaryDiskTotalCapacity                    int64\n",
      " 27  Census_PrimaryDiskTypeName                         int8 \n",
      " 28  Census_SystemVolumeTotalCapacity                   int32\n",
      " 29  Census_HasOpticalDiskDrive                         int8 \n",
      " 30  Census_InternalPrimaryDiagonalDisplaySizeInInches  int16\n",
      " 31  Census_InternalPrimaryDisplayResolutionHorizontal  int16\n",
      " 32  Census_InternalPrimaryDisplayResolutionVertical    int16\n",
      " 33  Census_PowerPlatformRoleName                       int8 \n",
      " 34  Census_OSArchitecture                              int8 \n",
      " 35  Census_OSBuildNumber                               int16\n",
      " 36  Census_OSBuildRevision                             int16\n",
      " 37  Census_OSInstallLanguageIdentifier                 int8 \n",
      " 38  Census_OSUILocaleIdentifier                        int16\n",
      " 39  Census_OSWUAutoUpdateOptionsName                   int8 \n",
      " 40  Census_IsPortableOperatingSystem                   int8 \n",
      " 41  Census_GenuineStateName                            int8 \n",
      " 42  Census_ActivationChannel                           int8 \n",
      " 43  Census_FlightRing                                  int8 \n",
      " 44  Census_IsSecureBootEnabled                         int8 \n",
      " 45  Census_IsVirtualDevice                             int8 \n",
      " 46  Census_IsTouchEnabled                              int8 \n",
      " 47  Census_IsPenCapable                                int8 \n",
      " 48  Census_IsAlwaysOnAlwaysConnectedCapable            int8 \n",
      " 49  HasDetections                                      int8 \n",
      "dtypes: int16(14), int32(3), int64(1), int8(32)\n",
      "memory usage: 655.3 MB\n"
     ]
    }
   ],
   "source": [
    "df.info()"
   ]
  },
  {
   "cell_type": "code",
   "execution_count": 8,
   "metadata": {},
   "outputs": [],
   "source": [
    "target = df['HasDetections']\n",
    "feature = df.drop(['HasDetections'], axis=1)"
   ]
  },
  {
   "cell_type": "markdown",
   "metadata": {},
   "source": [
    "** Separamos en dos el dataset train 70% test 30%**"
   ]
  },
  {
   "cell_type": "code",
   "execution_count": 9,
   "metadata": {},
   "outputs": [],
   "source": [
    "feature_train, feature_test, target_train, target_test = model_selection.train_test_split(feature, target, test_size=0.3, random_state=1)"
   ]
  },
  {
   "cell_type": "markdown",
   "metadata": {},
   "source": [
    "** Separamos nuevamente el train para obtener train 55% validacion 15%**"
   ]
  },
  {
   "cell_type": "code",
   "execution_count": 10,
   "metadata": {},
   "outputs": [],
   "source": [
    "feature_train, feature_validate, target_train, target_validate = model_selection.train_test_split(feature_train, target_train, test_size=0.15, random_state=1)"
   ]
  },
  {
   "cell_type": "code",
   "execution_count": 11,
   "metadata": {},
   "outputs": [
    {
     "data": {
      "text/plain": [
       "ProductName                                          5110336\n",
       "IsBeta                                               5110336\n",
       "RtpStateBitfield                                     5110336\n",
       "IsSxsPassiveMode                                     5110336\n",
       "AVProductStatesIdentifier                            5110336\n",
       "AVProductsInstalled                                  5110336\n",
       "AVProductsEnabled                                    5110336\n",
       "HasTpm                                               5110336\n",
       "CountryIdentifier                                    5110336\n",
       "GeoNameIdentifier                                    5110336\n",
       "LocaleEnglishNameIdentifier                          5110336\n",
       "Platform                                             5110336\n",
       "Processor                                            5110336\n",
       "OsBuild                                              5110336\n",
       "OsSuite                                              5110336\n",
       "OsPlatformSubRelease                                 5110336\n",
       "SkuEdition                                           5110336\n",
       "IsProtected                                          5110336\n",
       "AutoSampleOptIn                                      5110336\n",
       "IeVerIdentifier                                      5110336\n",
       "UacLuaenable                                         5110336\n",
       "Census_MDC2FormFactor                                5110336\n",
       "Census_DeviceFamily                                  5110336\n",
       "Census_ProcessorCoreCount                            5110336\n",
       "Census_ProcessorManufacturerIdentifier               5110336\n",
       "Census_ProcessorModelIdentifier                      5110336\n",
       "Census_PrimaryDiskTotalCapacity                      5110336\n",
       "Census_PrimaryDiskTypeName                           5110336\n",
       "Census_SystemVolumeTotalCapacity                     5110336\n",
       "Census_HasOpticalDiskDrive                           5110336\n",
       "Census_InternalPrimaryDiagonalDisplaySizeInInches    5110336\n",
       "Census_InternalPrimaryDisplayResolutionHorizontal    5110336\n",
       "Census_InternalPrimaryDisplayResolutionVertical      5110336\n",
       "Census_PowerPlatformRoleName                         5110336\n",
       "Census_OSArchitecture                                5110336\n",
       "Census_OSBuildNumber                                 5110336\n",
       "Census_OSBuildRevision                               5110336\n",
       "Census_OSInstallLanguageIdentifier                   5110336\n",
       "Census_OSUILocaleIdentifier                          5110336\n",
       "Census_OSWUAutoUpdateOptionsName                     5110336\n",
       "Census_IsPortableOperatingSystem                     5110336\n",
       "Census_GenuineStateName                              5110336\n",
       "Census_ActivationChannel                             5110336\n",
       "Census_FlightRing                                    5110336\n",
       "Census_IsSecureBootEnabled                           5110336\n",
       "Census_IsVirtualDevice                               5110336\n",
       "Census_IsTouchEnabled                                5110336\n",
       "Census_IsPenCapable                                  5110336\n",
       "Census_IsAlwaysOnAlwaysConnectedCapable              5110336\n",
       "dtype: int64"
      ]
     },
     "execution_count": 11,
     "metadata": {},
     "output_type": "execute_result"
    }
   ],
   "source": [
    "feature_train.count()"
   ]
  },
  {
   "cell_type": "code",
   "execution_count": 12,
   "metadata": {},
   "outputs": [
    {
     "data": {
      "text/plain": [
       "ProductName                                          2576641\n",
       "IsBeta                                               2576641\n",
       "RtpStateBitfield                                     2576641\n",
       "IsSxsPassiveMode                                     2576641\n",
       "AVProductStatesIdentifier                            2576641\n",
       "AVProductsInstalled                                  2576641\n",
       "AVProductsEnabled                                    2576641\n",
       "HasTpm                                               2576641\n",
       "CountryIdentifier                                    2576641\n",
       "GeoNameIdentifier                                    2576641\n",
       "LocaleEnglishNameIdentifier                          2576641\n",
       "Platform                                             2576641\n",
       "Processor                                            2576641\n",
       "OsBuild                                              2576641\n",
       "OsSuite                                              2576641\n",
       "OsPlatformSubRelease                                 2576641\n",
       "SkuEdition                                           2576641\n",
       "IsProtected                                          2576641\n",
       "AutoSampleOptIn                                      2576641\n",
       "IeVerIdentifier                                      2576641\n",
       "UacLuaenable                                         2576641\n",
       "Census_MDC2FormFactor                                2576641\n",
       "Census_DeviceFamily                                  2576641\n",
       "Census_ProcessorCoreCount                            2576641\n",
       "Census_ProcessorManufacturerIdentifier               2576641\n",
       "Census_ProcessorModelIdentifier                      2576641\n",
       "Census_PrimaryDiskTotalCapacity                      2576641\n",
       "Census_PrimaryDiskTypeName                           2576641\n",
       "Census_SystemVolumeTotalCapacity                     2576641\n",
       "Census_HasOpticalDiskDrive                           2576641\n",
       "Census_InternalPrimaryDiagonalDisplaySizeInInches    2576641\n",
       "Census_InternalPrimaryDisplayResolutionHorizontal    2576641\n",
       "Census_InternalPrimaryDisplayResolutionVertical      2576641\n",
       "Census_PowerPlatformRoleName                         2576641\n",
       "Census_OSArchitecture                                2576641\n",
       "Census_OSBuildNumber                                 2576641\n",
       "Census_OSBuildRevision                               2576641\n",
       "Census_OSInstallLanguageIdentifier                   2576641\n",
       "Census_OSUILocaleIdentifier                          2576641\n",
       "Census_OSWUAutoUpdateOptionsName                     2576641\n",
       "Census_IsPortableOperatingSystem                     2576641\n",
       "Census_GenuineStateName                              2576641\n",
       "Census_ActivationChannel                             2576641\n",
       "Census_FlightRing                                    2576641\n",
       "Census_IsSecureBootEnabled                           2576641\n",
       "Census_IsVirtualDevice                               2576641\n",
       "Census_IsTouchEnabled                                2576641\n",
       "Census_IsPenCapable                                  2576641\n",
       "Census_IsAlwaysOnAlwaysConnectedCapable              2576641\n",
       "dtype: int64"
      ]
     },
     "execution_count": 12,
     "metadata": {},
     "output_type": "execute_result"
    }
   ],
   "source": [
    "feature_test.count()"
   ]
  },
  {
   "cell_type": "code",
   "execution_count": 13,
   "metadata": {},
   "outputs": [
    {
     "data": {
      "text/plain": [
       "ProductName                                          901824\n",
       "IsBeta                                               901824\n",
       "RtpStateBitfield                                     901824\n",
       "IsSxsPassiveMode                                     901824\n",
       "AVProductStatesIdentifier                            901824\n",
       "AVProductsInstalled                                  901824\n",
       "AVProductsEnabled                                    901824\n",
       "HasTpm                                               901824\n",
       "CountryIdentifier                                    901824\n",
       "GeoNameIdentifier                                    901824\n",
       "LocaleEnglishNameIdentifier                          901824\n",
       "Platform                                             901824\n",
       "Processor                                            901824\n",
       "OsBuild                                              901824\n",
       "OsSuite                                              901824\n",
       "OsPlatformSubRelease                                 901824\n",
       "SkuEdition                                           901824\n",
       "IsProtected                                          901824\n",
       "AutoSampleOptIn                                      901824\n",
       "IeVerIdentifier                                      901824\n",
       "UacLuaenable                                         901824\n",
       "Census_MDC2FormFactor                                901824\n",
       "Census_DeviceFamily                                  901824\n",
       "Census_ProcessorCoreCount                            901824\n",
       "Census_ProcessorManufacturerIdentifier               901824\n",
       "Census_ProcessorModelIdentifier                      901824\n",
       "Census_PrimaryDiskTotalCapacity                      901824\n",
       "Census_PrimaryDiskTypeName                           901824\n",
       "Census_SystemVolumeTotalCapacity                     901824\n",
       "Census_HasOpticalDiskDrive                           901824\n",
       "Census_InternalPrimaryDiagonalDisplaySizeInInches    901824\n",
       "Census_InternalPrimaryDisplayResolutionHorizontal    901824\n",
       "Census_InternalPrimaryDisplayResolutionVertical      901824\n",
       "Census_PowerPlatformRoleName                         901824\n",
       "Census_OSArchitecture                                901824\n",
       "Census_OSBuildNumber                                 901824\n",
       "Census_OSBuildRevision                               901824\n",
       "Census_OSInstallLanguageIdentifier                   901824\n",
       "Census_OSUILocaleIdentifier                          901824\n",
       "Census_OSWUAutoUpdateOptionsName                     901824\n",
       "Census_IsPortableOperatingSystem                     901824\n",
       "Census_GenuineStateName                              901824\n",
       "Census_ActivationChannel                             901824\n",
       "Census_FlightRing                                    901824\n",
       "Census_IsSecureBootEnabled                           901824\n",
       "Census_IsVirtualDevice                               901824\n",
       "Census_IsTouchEnabled                                901824\n",
       "Census_IsPenCapable                                  901824\n",
       "Census_IsAlwaysOnAlwaysConnectedCapable              901824\n",
       "dtype: int64"
      ]
     },
     "execution_count": 13,
     "metadata": {},
     "output_type": "execute_result"
    }
   ],
   "source": [
    "feature_validate.count()"
   ]
  },
  {
   "cell_type": "markdown",
   "metadata": {},
   "source": [
    "## MODELOS"
   ]
  },
  {
   "cell_type": "markdown",
   "metadata": {},
   "source": [
    "### Implementación Random Forest Classifier"
   ]
  },
  {
   "cell_type": "code",
   "execution_count": 14,
   "metadata": {},
   "outputs": [],
   "source": [
    "from sklearn.metrics import roc_curve, auc, roc_auc_score\n",
    "from sklearn.metrics import accuracy_score, confusion_matrix, classification_report"
   ]
  },
  {
   "cell_type": "code",
   "execution_count": 15,
   "metadata": {},
   "outputs": [],
   "source": [
    "from sklearn.ensemble import RandomForestClassifier"
   ]
  },
  {
   "cell_type": "code",
   "execution_count": 16,
   "metadata": {},
   "outputs": [],
   "source": [
    "clf = RandomForestClassifier(n_estimators=100)"
   ]
  },
  {
   "cell_type": "code",
   "execution_count": 17,
   "metadata": {},
   "outputs": [
    {
     "data": {
      "text/plain": [
       "RandomForestClassifier()"
      ]
     },
     "execution_count": 17,
     "metadata": {},
     "output_type": "execute_result"
    }
   ],
   "source": [
    "clf.fit(feature_train,target_train)"
   ]
  },
  {
   "cell_type": "code",
   "execution_count": 18,
   "metadata": {},
   "outputs": [],
   "source": [
    "fetaure_pred=clf.predict(feature_test)"
   ]
  },
  {
   "cell_type": "code",
   "execution_count": 19,
   "metadata": {},
   "outputs": [
    {
     "name": "stdout",
     "output_type": "stream",
     "text": [
      "accuracy score \n",
      " 0.6033122192808389\n"
     ]
    }
   ],
   "source": [
    "print('accuracy score \\n',accuracy_score(target_test, fetaure_pred))"
   ]
  },
  {
   "cell_type": "code",
   "execution_count": 20,
   "metadata": {},
   "outputs": [
    {
     "name": "stdout",
     "output_type": "stream",
     "text": [
      "Matriz de confusion \n",
      " [[775987 513382]\n",
      " [508740 778532]]\n"
     ]
    }
   ],
   "source": [
    "print('Matriz de confusion \\n',confusion_matrix(target_test, fetaure_pred))\n"
   ]
  },
  {
   "cell_type": "code",
   "execution_count": 21,
   "metadata": {},
   "outputs": [],
   "source": [
    "target_names=[0, 1]\n",
    "target_names=list(map(str,target_names))"
   ]
  },
  {
   "cell_type": "code",
   "execution_count": 22,
   "metadata": {},
   "outputs": [
    {
     "name": "stdout",
     "output_type": "stream",
     "text": [
      "              precision    recall  f1-score   support\n",
      "\n",
      "           0       0.60      0.60      0.60   1289369\n",
      "           1       0.60      0.60      0.60   1287272\n",
      "\n",
      "    accuracy                           0.60   2576641\n",
      "   macro avg       0.60      0.60      0.60   2576641\n",
      "weighted avg       0.60      0.60      0.60   2576641\n",
      "\n"
     ]
    }
   ],
   "source": [
    "print(classification_report(target_test, fetaure_pred, target_names=target_names))"
   ]
  },
  {
   "cell_type": "code",
   "execution_count": 23,
   "metadata": {},
   "outputs": [],
   "source": [
    "target_prob = clf.predict_proba(feature_test)"
   ]
  },
  {
   "cell_type": "code",
   "execution_count": 24,
   "metadata": {},
   "outputs": [
    {
     "data": {
      "text/plain": [
       "<matplotlib.legend.Legend at 0x1dbad342920>"
      ]
     },
     "execution_count": 24,
     "metadata": {},
     "output_type": "execute_result"
    },
    {
     "data": {
      "image/png": "[encoded data removed]",
      "text/plain": [
       "<Figure size 432x288 with 1 Axes>"
      ]
     },
     "metadata": {
      "needs_background": "light"
     },
     "output_type": "display_data"
    }
   ],
   "source": [
    "plt.style.use('seaborn')\n",
    "%matplotlib inline\n",
    "# roc curve for classes\n",
    "fpr = {}\n",
    "tpr = {}\n",
    "thresh ={}\n",
    "\n",
    "n_class = 2\n",
    "\n",
    "for i in range(n_class):    \n",
    "    fpr[i], tpr[i], thresh[i] = roc_curve(target_test, target_prob[:, i], pos_label=i)\n",
    "    \n",
    "# plotting    \n",
    "plt.plot(fpr[0], tpr[0], linestyle='--',color='orange', label='Class 0 vs Result')\n",
    "plt.plot(fpr[1], tpr[1], linestyle='--',color='green', label='Class 1 vs Result')\n",
    "\n",
    "plt.title('Multiclass ROC curve')\n",
    "plt.xlabel('False Positive Rate')\n",
    "plt.ylabel('True Positive rate')\n",
    "plt.legend(loc='best')\n",
    "#plt.savefig('LR Multiclass ROC',dpi=900); "
   ]
  },
  {
   "cell_type": "markdown",
   "metadata": {},
   "source": [
    "### Kfolds\n",
    "from: https://machinelearningmastery.com/repeated-k-fold-cross-validation-with-python/"
   ]
  },
  {
   "cell_type": "code",
   "execution_count": 25,
   "metadata": {},
   "outputs": [],
   "source": [
    "from numpy import mean\n",
    "from numpy import std\n",
    "from sklearn.datasets import make_classification\n",
    "from sklearn.model_selection import KFold\n",
    "from sklearn.model_selection import cross_val_score\n",
    "from sklearn.linear_model import LogisticRegression"
   ]
  },
  {
   "cell_type": "code",
   "execution_count": 26,
   "metadata": {},
   "outputs": [],
   "source": [
    "X, y = make_classification(n_samples=1000, n_features=20, n_informative=15, n_redundant=5, random_state=1)\n"
   ]
  },
  {
   "cell_type": "code",
   "execution_count": 27,
   "metadata": {},
   "outputs": [],
   "source": [
    "cv = KFold(n_splits=10, random_state=1, shuffle=True)"
   ]
  },
  {
   "cell_type": "code",
   "execution_count": 28,
   "metadata": {},
   "outputs": [],
   "source": [
    "#use k-fold CV to evaluate model\n",
    "scores = cross_val_score(clf, X, y, scoring='accuracy', cv=cv, n_jobs=-1)"
   ]
  },
  {
   "cell_type": "code",
   "execution_count": 29,
   "metadata": {},
   "outputs": [
    {
     "name": "stdout",
     "output_type": "stream",
     "text": [
      "Accuracy: 0.926 (0.012)\n"
     ]
    }
   ],
   "source": [
    "print('Accuracy: %.3f (%.3f)' % (mean(scores), std(scores)))"
   ]
  }
 ],
 "metadata": {
  "interpreter": {
   "hash": "b89b5cfaba6639976dc87ff2fec6d58faec662063367e2c229c520fe71072417"
  },
  "kernelspec": {
   "display_name": "Python 3.10.3 64-bit",
   "language": "python",
   "name": "python3"
  },
  "language_info": {
   "codemirror_mode": {
    "name": "ipython",
    "version": 3
   },
   "file_extension": ".py",
   "mimetype": "text/x-python",
   "name": "python",
   "nbconvert_exporter": "python",
   "pygments_lexer": "ipython3",
   "version": "3.10.3"
  },
  "orig_nbformat": 4
 },
 "nbformat": 4,
 "nbformat_minor": 2
}
