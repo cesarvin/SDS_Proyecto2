{
 "cells": [
  {
   "cell_type": "markdown",
   "metadata": {},
   "source": [
    "# Proyecto 1\n",
    "## Security Data Science\n",
    "* César Rodas 16776\n",
    "* Mario Andrés Perdomo "
   ]
  },
  {
   "cell_type": "markdown",
   "metadata": {},
   "source": [
    "### Librerías"
   ]
  },
  {
   "cell_type": "code",
   "execution_count": 2,
   "metadata": {},
   "outputs": [
    {
     "name": "stdout",
     "output_type": "stream",
     "text": [
      "Defaulting to user installation because normal site-packages is not writeable\n",
      "Requirement already satisfied: pandas_profiling in c:\\users\\cesarvin\\appdata\\roaming\\python\\python310\\site-packages (3.1.0)\n",
      "Requirement already satisfied: tqdm>=4.48.2 in c:\\users\\cesarvin\\appdata\\roaming\\python\\python310\\site-packages (from pandas_profiling) (4.64.0)\n",
      "Requirement already satisfied: requests>=2.24.0 in c:\\users\\cesarvin\\appdata\\roaming\\python\\python310\\site-packages (from pandas_profiling) (2.27.1)\n",
      "Requirement already satisfied: pandas!=1.0.0,!=1.0.1,!=1.0.2,!=1.1.0,>=0.25.3 in c:\\users\\cesarvin\\appdata\\roaming\\python\\python310\\site-packages (from pandas_profiling) (1.4.2)\n",
      "Requirement already satisfied: scipy>=1.4.1 in c:\\users\\cesarvin\\appdata\\roaming\\python\\python310\\site-packages (from pandas_profiling) (1.8.0)\n",
      "Requirement already satisfied: htmlmin>=0.1.12 in c:\\users\\cesarvin\\appdata\\roaming\\python\\python310\\site-packages (from pandas_profiling) (0.1.12)\n",
      "Requirement already satisfied: PyYAML>=5.0.0 in c:\\users\\cesarvin\\appdata\\roaming\\python\\python310\\site-packages (from pandas_profiling) (6.0)\n",
      "Requirement already satisfied: visions[type_image_path]==0.7.4 in c:\\users\\cesarvin\\appdata\\roaming\\python\\python310\\site-packages (from pandas_profiling) (0.7.4)\n",
      "Requirement already satisfied: missingno>=0.4.2 in c:\\users\\cesarvin\\appdata\\roaming\\python\\python310\\site-packages (from pandas_profiling) (0.5.1)\n",
      "Requirement already satisfied: joblib~=1.0.1 in c:\\users\\cesarvin\\appdata\\roaming\\python\\python310\\site-packages (from pandas_profiling) (1.0.1)\n",
      "Requirement already satisfied: seaborn>=0.10.1 in c:\\users\\cesarvin\\appdata\\roaming\\python\\python310\\site-packages (from pandas_profiling) (0.11.2)\n",
      "Requirement already satisfied: pydantic>=1.8.1 in c:\\users\\cesarvin\\appdata\\roaming\\python\\python310\\site-packages (from pandas_profiling) (1.9.0)\n",
      "Requirement already satisfied: phik>=0.11.1 in c:\\users\\cesarvin\\appdata\\roaming\\python\\python310\\site-packages (from pandas_profiling) (0.12.2)\n",
      "Requirement already satisfied: tangled-up-in-unicode==0.1.0 in c:\\users\\cesarvin\\appdata\\roaming\\python\\python310\\site-packages (from pandas_profiling) (0.1.0)\n",
      "Requirement already satisfied: multimethod>=1.4 in c:\\users\\cesarvin\\appdata\\roaming\\python\\python310\\site-packages (from pandas_profiling) (1.8)\n",
      "Requirement already satisfied: matplotlib>=3.2.0 in c:\\users\\cesarvin\\appdata\\roaming\\python\\python310\\site-packages (from pandas_profiling) (3.5.1)\n",
      "Requirement already satisfied: markupsafe~=2.0.1 in c:\\users\\cesarvin\\appdata\\roaming\\python\\python310\\site-packages (from pandas_profiling) (2.0.1)\n",
      "Requirement already satisfied: numpy>=1.16.0 in c:\\users\\cesarvin\\appdata\\roaming\\python\\python310\\site-packages (from pandas_profiling) (1.22.3)\n",
      "Requirement already satisfied: jinja2>=2.11.1 in c:\\users\\cesarvin\\appdata\\roaming\\python\\python310\\site-packages (from pandas_profiling) (3.1.1)\n",
      "Requirement already satisfied: networkx>=2.4 in c:\\users\\cesarvin\\appdata\\roaming\\python\\python310\\site-packages (from visions[type_image_path]==0.7.4->pandas_profiling) (2.8)\n",
      "Requirement already satisfied: attrs>=19.3.0 in c:\\users\\cesarvin\\appdata\\roaming\\python\\python310\\site-packages (from visions[type_image_path]==0.7.4->pandas_profiling) (21.4.0)\n",
      "Requirement already satisfied: Pillow in c:\\users\\cesarvin\\appdata\\roaming\\python\\python310\\site-packages (from visions[type_image_path]==0.7.4->pandas_profiling) (9.1.0)\n",
      "Requirement already satisfied: imagehash in c:\\users\\cesarvin\\appdata\\roaming\\python\\python310\\site-packages (from visions[type_image_path]==0.7.4->pandas_profiling) (4.2.1)\n",
      "Requirement already satisfied: python-dateutil>=2.7 in c:\\users\\cesarvin\\appdata\\roaming\\python\\python310\\site-packages (from matplotlib>=3.2.0->pandas_profiling) (2.8.2)\n",
      "Requirement already satisfied: cycler>=0.10 in c:\\users\\cesarvin\\appdata\\roaming\\python\\python310\\site-packages (from matplotlib>=3.2.0->pandas_profiling) (0.11.0)\n",
      "Requirement already satisfied: kiwisolver>=1.0.1 in c:\\users\\cesarvin\\appdata\\roaming\\python\\python310\\site-packages (from matplotlib>=3.2.0->pandas_profiling) (1.4.2)\n",
      "Requirement already satisfied: pyparsing>=2.2.1 in c:\\users\\cesarvin\\appdata\\roaming\\python\\python310\\site-packages (from matplotlib>=3.2.0->pandas_profiling) (3.0.7)\n",
      "Requirement already satisfied: packaging>=20.0 in c:\\users\\cesarvin\\appdata\\roaming\\python\\python310\\site-packages (from matplotlib>=3.2.0->pandas_profiling) (21.3)\n",
      "Requirement already satisfied: fonttools>=4.22.0 in c:\\users\\cesarvin\\appdata\\roaming\\python\\python310\\site-packages (from matplotlib>=3.2.0->pandas_profiling) (4.32.0)\n",
      "Requirement already satisfied: pytz>=2020.1 in c:\\users\\cesarvin\\appdata\\roaming\\python\\python310\\site-packages (from pandas!=1.0.0,!=1.0.1,!=1.0.2,!=1.1.0,>=0.25.3->pandas_profiling) (2022.1)\n",
      "Requirement already satisfied: typing-extensions>=3.7.4.3 in c:\\users\\cesarvin\\appdata\\roaming\\python\\python310\\site-packages (from pydantic>=1.8.1->pandas_profiling) (4.1.1)\n",
      "Requirement already satisfied: idna<4,>=2.5 in c:\\users\\cesarvin\\appdata\\roaming\\python\\python310\\site-packages (from requests>=2.24.0->pandas_profiling) (3.3)\n",
      "Requirement already satisfied: charset-normalizer~=2.0.0 in c:\\users\\cesarvin\\appdata\\roaming\\python\\python310\\site-packages (from requests>=2.24.0->pandas_profiling) (2.0.12)\n",
      "Requirement already satisfied: urllib3<1.27,>=1.21.1 in c:\\users\\cesarvin\\appdata\\roaming\\python\\python310\\site-packages (from requests>=2.24.0->pandas_profiling) (1.26.9)\n",
      "Requirement already satisfied: certifi>=2017.4.17 in c:\\users\\cesarvin\\appdata\\roaming\\python\\python310\\site-packages (from requests>=2.24.0->pandas_profiling) (2021.10.8)\n",
      "Requirement already satisfied: colorama in c:\\users\\cesarvin\\appdata\\roaming\\python\\python310\\site-packages (from tqdm>=4.48.2->pandas_profiling) (0.4.4)\n",
      "Requirement already satisfied: six>=1.5 in c:\\users\\cesarvin\\appdata\\roaming\\python\\python310\\site-packages (from python-dateutil>=2.7->matplotlib>=3.2.0->pandas_profiling) (1.16.0)\n",
      "Requirement already satisfied: PyWavelets in c:\\users\\cesarvin\\appdata\\roaming\\python\\python310\\site-packages (from imagehash->visions[type_image_path]==0.7.4->pandas_profiling) (1.3.0)\n",
      "Defaulting to user installation because normal site-packages is not writeable\n",
      "Requirement already satisfied: sklearn in c:\\users\\cesarvin\\appdata\\roaming\\python\\python310\\site-packages (0.0)\n",
      "Requirement already satisfied: scikit-learn in c:\\users\\cesarvin\\appdata\\roaming\\python\\python310\\site-packages (from sklearn) (1.0.2)\n",
      "Requirement already satisfied: scipy>=1.1.0 in c:\\users\\cesarvin\\appdata\\roaming\\python\\python310\\site-packages (from scikit-learn->sklearn) (1.8.0)\n",
      "Requirement already satisfied: threadpoolctl>=2.0.0 in c:\\users\\cesarvin\\appdata\\roaming\\python\\python310\\site-packages (from scikit-learn->sklearn) (3.1.0)\n",
      "Requirement already satisfied: numpy>=1.14.6 in c:\\users\\cesarvin\\appdata\\roaming\\python\\python310\\site-packages (from scikit-learn->sklearn) (1.22.3)\n",
      "Requirement already satisfied: joblib>=0.11 in c:\\users\\cesarvin\\appdata\\roaming\\python\\python310\\site-packages (from scikit-learn->sklearn) (1.0.1)\n"
     ]
    },
    {
     "name": "stderr",
     "output_type": "stream",
     "text": [
      "C:\\Users\\cesarvin\\AppData\\Roaming\\Python\\Python310\\site-packages\\tqdm\\auto.py:22: TqdmWarning: IProgress not found. Please update jupyter and ipywidgets. See https://ipywidgets.readthedocs.io/en/stable/user_install.html\n",
      "  from .autonotebook import tqdm as notebook_tqdm\n"
     ]
    }
   ],
   "source": [
    "import pandas as pd\n",
    "import numpy as np\n",
    "%matplotlib agg\n",
    "import matplotlib.pyplot as plt\n",
    "import seaborn as sns\n",
    "\n",
    "#!{sys.executable} -m pip install pandas_profiling\n",
    "!pip install pandas_profiling\n",
    "!pip install sklearn\n",
    "import pandas_profiling as pp\n",
    "from pandas_profiling import ProfileReport\n",
    "\n",
    "import sklearn\n",
    "from sklearn import metrics, model_selection, tree\n",
    "\n",
    "from urllib.parse import urlparse"
   ]
  },
  {
   "cell_type": "markdown",
   "metadata": {},
   "source": [
    "## Parte 1"
   ]
  },
  {
   "cell_type": "markdown",
   "metadata": {},
   "source": [
    "### Exploración de datos"
   ]
  },
  {
   "cell_type": "code",
   "execution_count": 3,
   "metadata": {},
   "outputs": [
    {
     "name": "stderr",
     "output_type": "stream",
     "text": [
      "C:\\Users\\cesarvin\\AppData\\Local\\Temp\\ipykernel_17304\\2436019669.py:1: DtypeWarning: Columns (28) have mixed types. Specify dtype option on import or set low_memory=False.\n",
      "  df = pd.read_csv('train.csv')\n"
     ]
    }
   ],
   "source": [
    "df = pd.read_csv('train.csv')"
   ]
  },
  {
   "cell_type": "code",
   "execution_count": 4,
   "metadata": {},
   "outputs": [
    {
     "data": {
      "text/plain": [
       "MachineIdentifier                               0\n",
       "ProductName                                     0\n",
       "EngineVersion                                   0\n",
       "AppVersion                                      0\n",
       "AvSigVersion                                    0\n",
       "                                            ...  \n",
       "Census_IsPenCapable                             0\n",
       "Census_IsAlwaysOnAlwaysConnectedCapable     71343\n",
       "Wdft_IsGamer                               303451\n",
       "Wdft_RegionIdentifier                      303451\n",
       "HasDetections                                   0\n",
       "Length: 83, dtype: int64"
      ]
     },
     "execution_count": 4,
     "metadata": {},
     "output_type": "execute_result"
    }
   ],
   "source": [
    "df.isnull().sum()"
   ]
  },
  {
   "cell_type": "code",
   "execution_count": 5,
   "metadata": {},
   "outputs": [
    {
     "name": "stdout",
     "output_type": "stream",
     "text": [
      "<class 'pandas.core.frame.DataFrame'>\n",
      "RangeIndex: 8921483 entries, 0 to 8921482\n",
      "Data columns (total 83 columns):\n",
      " #   Column                                             Dtype  \n",
      "---  ------                                             -----  \n",
      " 0   MachineIdentifier                                  object \n",
      " 1   ProductName                                        object \n",
      " 2   EngineVersion                                      object \n",
      " 3   AppVersion                                         object \n",
      " 4   AvSigVersion                                       object \n",
      " 5   IsBeta                                             int64  \n",
      " 6   RtpStateBitfield                                   float64\n",
      " 7   IsSxsPassiveMode                                   int64  \n",
      " 8   DefaultBrowsersIdentifier                          float64\n",
      " 9   AVProductStatesIdentifier                          float64\n",
      " 10  AVProductsInstalled                                float64\n",
      " 11  AVProductsEnabled                                  float64\n",
      " 12  HasTpm                                             int64  \n",
      " 13  CountryIdentifier                                  int64  \n",
      " 14  CityIdentifier                                     float64\n",
      " 15  OrganizationIdentifier                             float64\n",
      " 16  GeoNameIdentifier                                  float64\n",
      " 17  LocaleEnglishNameIdentifier                        int64  \n",
      " 18  Platform                                           object \n",
      " 19  Processor                                          object \n",
      " 20  OsVer                                              object \n",
      " 21  OsBuild                                            int64  \n",
      " 22  OsSuite                                            int64  \n",
      " 23  OsPlatformSubRelease                               object \n",
      " 24  OsBuildLab                                         object \n",
      " 25  SkuEdition                                         object \n",
      " 26  IsProtected                                        float64\n",
      " 27  AutoSampleOptIn                                    int64  \n",
      " 28  PuaMode                                            object \n",
      " 29  SMode                                              float64\n",
      " 30  IeVerIdentifier                                    float64\n",
      " 31  SmartScreen                                        object \n",
      " 32  Firewall                                           float64\n",
      " 33  UacLuaenable                                       float64\n",
      " 34  Census_MDC2FormFactor                              object \n",
      " 35  Census_DeviceFamily                                object \n",
      " 36  Census_OEMNameIdentifier                           float64\n",
      " 37  Census_OEMModelIdentifier                          float64\n",
      " 38  Census_ProcessorCoreCount                          float64\n",
      " 39  Census_ProcessorManufacturerIdentifier             float64\n",
      " 40  Census_ProcessorModelIdentifier                    float64\n",
      " 41  Census_ProcessorClass                              object \n",
      " 42  Census_PrimaryDiskTotalCapacity                    float64\n",
      " 43  Census_PrimaryDiskTypeName                         object \n",
      " 44  Census_SystemVolumeTotalCapacity                   float64\n",
      " 45  Census_HasOpticalDiskDrive                         int64  \n",
      " 46  Census_TotalPhysicalRAM                            float64\n",
      " 47  Census_ChassisTypeName                             object \n",
      " 48  Census_InternalPrimaryDiagonalDisplaySizeInInches  float64\n",
      " 49  Census_InternalPrimaryDisplayResolutionHorizontal  float64\n",
      " 50  Census_InternalPrimaryDisplayResolutionVertical    float64\n",
      " 51  Census_PowerPlatformRoleName                       object \n",
      " 52  Census_InternalBatteryType                         object \n",
      " 53  Census_InternalBatteryNumberOfCharges              float64\n",
      " 54  Census_OSVersion                                   object \n",
      " 55  Census_OSArchitecture                              object \n",
      " 56  Census_OSBranch                                    object \n",
      " 57  Census_OSBuildNumber                               int64  \n",
      " 58  Census_OSBuildRevision                             int64  \n",
      " 59  Census_OSEdition                                   object \n",
      " 60  Census_OSSkuName                                   object \n",
      " 61  Census_OSInstallTypeName                           object \n",
      " 62  Census_OSInstallLanguageIdentifier                 float64\n",
      " 63  Census_OSUILocaleIdentifier                        int64  \n",
      " 64  Census_OSWUAutoUpdateOptionsName                   object \n",
      " 65  Census_IsPortableOperatingSystem                   int64  \n",
      " 66  Census_GenuineStateName                            object \n",
      " 67  Census_ActivationChannel                           object \n",
      " 68  Census_IsFlightingInternal                         float64\n",
      " 69  Census_IsFlightsDisabled                           float64\n",
      " 70  Census_FlightRing                                  object \n",
      " 71  Census_ThresholdOptIn                              float64\n",
      " 72  Census_FirmwareManufacturerIdentifier              float64\n",
      " 73  Census_FirmwareVersionIdentifier                   float64\n",
      " 74  Census_IsSecureBootEnabled                         int64  \n",
      " 75  Census_IsWIMBootEnabled                            float64\n",
      " 76  Census_IsVirtualDevice                             float64\n",
      " 77  Census_IsTouchEnabled                              int64  \n",
      " 78  Census_IsPenCapable                                int64  \n",
      " 79  Census_IsAlwaysOnAlwaysConnectedCapable            float64\n",
      " 80  Wdft_IsGamer                                       float64\n",
      " 81  Wdft_RegionIdentifier                              float64\n",
      " 82  HasDetections                                      int64  \n",
      "dtypes: float64(36), int64(17), object(30)\n",
      "memory usage: 5.5+ GB\n"
     ]
    }
   ],
   "source": [
    "df.info()"
   ]
  },
  {
   "cell_type": "code",
   "execution_count": 6,
   "metadata": {},
   "outputs": [
    {
     "data": {
      "text/plain": [
       "0    8826520\n",
       "1      94873\n",
       "2         53\n",
       "3         22\n",
       "4          8\n",
       "5          7\n",
       "Name: ProductName, dtype: int64"
      ]
     },
     "execution_count": 6,
     "metadata": {},
     "output_type": "execute_result"
    }
   ],
   "source": [
    "#df['ProductName'].value_counts()\n",
    "\n",
    "df['ProductName'] = df['ProductName'].replace(to_replace='win8defender', value=0)\n",
    "df['ProductName'] = df['ProductName'].replace(to_replace='mse', value=1)\n",
    "df['ProductName'] = df['ProductName'].replace(to_replace='mseprerelease', value=2)\n",
    "df['ProductName'] = df['ProductName'].replace(to_replace='scep', value=3)\n",
    "df['ProductName'] = df['ProductName'].replace(to_replace='windowsintune', value=4)\n",
    "df['ProductName'] = df['ProductName'].replace(to_replace='fep', value=5)\n",
    "\n",
    "df['ProductName'].value_counts()"
   ]
  },
  {
   "cell_type": "code",
   "execution_count": 7,
   "metadata": {},
   "outputs": [
    {
     "data": {
      "text/plain": [
       "0    8618715\n",
       "1     194508\n",
       "2      93889\n",
       "3      14371\n",
       "Name: Platform, dtype: int64"
      ]
     },
     "execution_count": 7,
     "metadata": {},
     "output_type": "execute_result"
    }
   ],
   "source": [
    "#df['Platform'].value_counts()\n",
    "df['Platform'] = df['Platform'].replace(to_replace='windows10', value=0)\n",
    "df['Platform'] = df['Platform'].replace(to_replace='windows8', value=1)\n",
    "df['Platform'] = df['Platform'].replace(to_replace='windows7', value=2)\n",
    "df['Platform'] = df['Platform'].replace(to_replace='windows2016', value=3)\n",
    "\n",
    "df['Platform'].value_counts()"
   ]
  },
  {
   "cell_type": "code",
   "execution_count": 8,
   "metadata": {},
   "outputs": [
    {
     "data": {
      "text/plain": [
       "0    8105435\n",
       "1     815702\n",
       "2        346\n",
       "Name: Processor, dtype: int64"
      ]
     },
     "execution_count": 8,
     "metadata": {},
     "output_type": "execute_result"
    }
   ],
   "source": [
    "#df['Processor'].value_counts()\n",
    "\n",
    "df['Processor'] = df['Processor'].replace(to_replace='x64', value=0)\n",
    "df['Processor'] = df['Processor'].replace(to_replace='x86', value=1)\n",
    "df['Processor'] = df['Processor'].replace(to_replace='arm64', value=2)\n",
    "\n",
    "df['Processor'].value_counts()"
   ]
  },
  {
   "cell_type": "code",
   "execution_count": 9,
   "metadata": {},
   "outputs": [
    {
     "data": {
      "text/plain": [
       "0    3915526\n",
       "1    2503681\n",
       "2     780270\n",
       "3     730819\n",
       "4     411606\n",
       "5     270192\n",
       "6     194508\n",
       "7      93889\n",
       "8      20992\n",
       "Name: OsPlatformSubRelease, dtype: int64"
      ]
     },
     "execution_count": 9,
     "metadata": {},
     "output_type": "execute_result"
    }
   ],
   "source": [
    "# df['OsPlatformSubRelease'].value_counts()\n",
    "\n",
    "df['OsPlatformSubRelease'] = df['OsPlatformSubRelease'].replace(to_replace='rs4', value=0)\n",
    "df['OsPlatformSubRelease'] = df['OsPlatformSubRelease'].replace(to_replace='rs3', value=1)\n",
    "df['OsPlatformSubRelease'] = df['OsPlatformSubRelease'].replace(to_replace='rs2', value=2)\n",
    "df['OsPlatformSubRelease'] = df['OsPlatformSubRelease'].replace(to_replace='rs1', value=3)\n",
    "df['OsPlatformSubRelease'] = df['OsPlatformSubRelease'].replace(to_replace='th2', value=4)\n",
    "df['OsPlatformSubRelease'] = df['OsPlatformSubRelease'].replace(to_replace='th1', value=5)\n",
    "df['OsPlatformSubRelease'] = df['OsPlatformSubRelease'].replace(to_replace='windows8.1', value=6)\n",
    "df['OsPlatformSubRelease'] = df['OsPlatformSubRelease'].replace(to_replace='windows7', value=7)\n",
    "df['OsPlatformSubRelease'] = df['OsPlatformSubRelease'].replace(to_replace='prers5', value=8)\n",
    "\n",
    "df['OsPlatformSubRelease'].value_counts()"
   ]
  },
  {
   "cell_type": "code",
   "execution_count": 10,
   "metadata": {},
   "outputs": [
    {
     "data": {
      "text/plain": [
       "0    5514341\n",
       "1    3224164\n",
       "2      78054\n",
       "3      40694\n",
       "5      34357\n",
       "4      20702\n",
       "6       5589\n",
       "7       3582\n",
       "Name: SkuEdition, dtype: int64"
      ]
     },
     "execution_count": 10,
     "metadata": {},
     "output_type": "execute_result"
    }
   ],
   "source": [
    "# df['SkuEdition'].value_counts()\n",
    "df['SkuEdition'] = df['SkuEdition'].replace(to_replace='Home', value=0)\n",
    "df['SkuEdition'] = df['SkuEdition'].replace(to_replace='Pro', value=1)\n",
    "df['SkuEdition'] = df['SkuEdition'].replace(to_replace='Invalid', value=2)\n",
    "df['SkuEdition'] = df['SkuEdition'].replace(to_replace='Education', value=3)\n",
    "df['SkuEdition'] = df['SkuEdition'].replace(to_replace='Enterprise LTSB', value=4)\n",
    "df['SkuEdition'] = df['SkuEdition'].replace(to_replace='Enterprise', value=5)\n",
    "df['SkuEdition'] = df['SkuEdition'].replace(to_replace='Cloud', value=6)\n",
    "df['SkuEdition'] = df['SkuEdition'].replace(to_replace='Server', value=7)\n",
    "\n",
    "df['SkuEdition'].value_counts()"
   ]
  },
  {
   "cell_type": "code",
   "execution_count": 11,
   "metadata": {},
   "outputs": [
    {
     "data": {
      "text/plain": [
       "0     5723319\n",
       "1     1951086\n",
       "2      405378\n",
       "3      298233\n",
       "4      292077\n",
       "5      139955\n",
       "6       67121\n",
       "7       31393\n",
       "8        8630\n",
       "9        3385\n",
       "10        875\n",
       "11         30\n",
       "12          1\n",
       "Name: Census_MDC2FormFactor, dtype: int64"
      ]
     },
     "execution_count": 11,
     "metadata": {},
     "output_type": "execute_result"
    }
   ],
   "source": [
    "# df['Census_MDC2FormFactor'].value_counts()\n",
    "\n",
    "df['Census_MDC2FormFactor'] = df['Census_MDC2FormFactor'].replace(to_replace='Notebook', value=0)\n",
    "df['Census_MDC2FormFactor'] = df['Census_MDC2FormFactor'].replace(to_replace='Desktop', value=1)\n",
    "df['Census_MDC2FormFactor'] = df['Census_MDC2FormFactor'].replace(to_replace='Convertible', value=2)\n",
    "df['Census_MDC2FormFactor'] = df['Census_MDC2FormFactor'].replace(to_replace='Detachable', value=3)\n",
    "df['Census_MDC2FormFactor'] = df['Census_MDC2FormFactor'].replace(to_replace='AllInOne', value=4)\n",
    "df['Census_MDC2FormFactor'] = df['Census_MDC2FormFactor'].replace(to_replace='PCOther', value=5)\n",
    "df['Census_MDC2FormFactor'] = df['Census_MDC2FormFactor'].replace(to_replace='LargeTablet', value=6)\n",
    "df['Census_MDC2FormFactor'] = df['Census_MDC2FormFactor'].replace(to_replace='SmallTablet', value=7)\n",
    "\n",
    "df['Census_MDC2FormFactor'] = df['Census_MDC2FormFactor'].replace(to_replace='SmallServer', value=8)\n",
    "df['Census_MDC2FormFactor'] = df['Census_MDC2FormFactor'].replace(to_replace='MediumServer', value=9)\n",
    "df['Census_MDC2FormFactor'] = df['Census_MDC2FormFactor'].replace(to_replace='LargeServer', value=10)\n",
    "df['Census_MDC2FormFactor'] = df['Census_MDC2FormFactor'].replace(to_replace='ServerOther', value=11)\n",
    "df['Census_MDC2FormFactor'] = df['Census_MDC2FormFactor'].replace(to_replace='IoTOther', value=12)\n",
    "\n",
    "df['Census_MDC2FormFactor'].value_counts()"
   ]
  },
  {
   "cell_type": "code",
   "execution_count": 12,
   "metadata": {},
   "outputs": [
    {
     "data": {
      "text/plain": [
       "0    8907053\n",
       "1      14410\n",
       "2         20\n",
       "Name: Census_DeviceFamily, dtype: int64"
      ]
     },
     "execution_count": 12,
     "metadata": {},
     "output_type": "execute_result"
    }
   ],
   "source": [
    "# df['Census_DeviceFamily'].value_counts()\n",
    "\n",
    "df['Census_DeviceFamily'] = df['Census_DeviceFamily'].replace(to_replace='Windows.Desktop', value=0)\n",
    "df['Census_DeviceFamily'] = df['Census_DeviceFamily'].replace(to_replace='Windows.Server', value=1)\n",
    "df['Census_DeviceFamily'] = df['Census_DeviceFamily'].replace(to_replace='Windows', value=2)\n",
    "\n",
    "df['Census_DeviceFamily'].value_counts()"
   ]
  },
  {
   "cell_type": "code",
   "execution_count": 13,
   "metadata": {},
   "outputs": [
    {
     "data": {
      "text/plain": [
       "0.0    5806804\n",
       "1.0    2466808\n",
       "2.0     635027\n",
       "Name: Census_PrimaryDiskTypeName, dtype: int64"
      ]
     },
     "execution_count": 13,
     "metadata": {},
     "output_type": "execute_result"
    }
   ],
   "source": [
    "# df['Census_PrimaryDiskTypeName'].value_counts()\n",
    "\n",
    "df['Census_PrimaryDiskTypeName'] = df['Census_PrimaryDiskTypeName'].replace(to_replace='HDD', value=0)\n",
    "df['Census_PrimaryDiskTypeName'] = df['Census_PrimaryDiskTypeName'].replace(to_replace='SSD', value=1)\n",
    "df['Census_PrimaryDiskTypeName'] = df['Census_PrimaryDiskTypeName'].replace(to_replace='UNKNOWN', value=2)\n",
    "df['Census_PrimaryDiskTypeName'] = df['Census_PrimaryDiskTypeName'].replace(to_replace='Unspecified', value=2)\n",
    "\n",
    "df['Census_PrimaryDiskTypeName'].value_counts()"
   ]
  },
  {
   "cell_type": "code",
   "execution_count": 14,
   "metadata": {},
   "outputs": [
    {
     "data": {
      "text/plain": [
       "0.0    6182908\n",
       "1.0    2066620\n",
       "2.0     492537\n",
       "3.0     109683\n",
       "4.0      37841\n",
       "5.0      20633\n",
       "6.0       7094\n",
       "7.0       4015\n",
       "8.0         97\n",
       "Name: Census_PowerPlatformRoleName, dtype: int64"
      ]
     },
     "execution_count": 14,
     "metadata": {},
     "output_type": "execute_result"
    }
   ],
   "source": [
    "# df['Census_PowerPlatformRoleName'].value_counts()\n",
    "\n",
    "df['Census_PowerPlatformRoleName'] = df['Census_PowerPlatformRoleName'].replace(to_replace='Mobile', value=0)\n",
    "df['Census_PowerPlatformRoleName'] = df['Census_PowerPlatformRoleName'].replace(to_replace='Desktop', value=1)\n",
    "df['Census_PowerPlatformRoleName'] = df['Census_PowerPlatformRoleName'].replace(to_replace='Slate', value=2)\n",
    "df['Census_PowerPlatformRoleName'] = df['Census_PowerPlatformRoleName'].replace(to_replace='Workstation', value=3)\n",
    "df['Census_PowerPlatformRoleName'] = df['Census_PowerPlatformRoleName'].replace(to_replace='SOHOServer', value=4)\n",
    "df['Census_PowerPlatformRoleName'] = df['Census_PowerPlatformRoleName'].replace(to_replace='UNKNOWN', value=5)\n",
    "df['Census_PowerPlatformRoleName'] = df['Census_PowerPlatformRoleName'].replace(to_replace='EnterpriseServer', value=6)\n",
    "df['Census_PowerPlatformRoleName'] = df['Census_PowerPlatformRoleName'].replace(to_replace='AppliancePC', value=7)\n",
    "df['Census_PowerPlatformRoleName'] = df['Census_PowerPlatformRoleName'].replace(to_replace='PerformanceServer', value=8)\n",
    "df['Census_PowerPlatformRoleName'] = df['Census_PowerPlatformRoleName'].replace(to_replace='Unspecified', value=5)\n",
    "\n",
    "df['Census_PowerPlatformRoleName'].value_counts()"
   ]
  },
  {
   "cell_type": "code",
   "execution_count": 15,
   "metadata": {},
   "outputs": [
    {
     "data": {
      "text/plain": [
       "0    8105885\n",
       "1     815252\n",
       "2        346\n",
       "Name: Census_OSArchitecture, dtype: int64"
      ]
     },
     "execution_count": 15,
     "metadata": {},
     "output_type": "execute_result"
    }
   ],
   "source": [
    "# df['Census_OSArchitecture'].value_counts()\n",
    "\n",
    "df['Census_OSArchitecture'] = df['Census_OSArchitecture'].replace(to_replace='amd64', value=0)\n",
    "df['Census_OSArchitecture'] = df['Census_OSArchitecture'].replace(to_replace='x86', value=1)\n",
    "df['Census_OSArchitecture'] = df['Census_OSArchitecture'].replace(to_replace='arm64', value=2)\n",
    "\n",
    "df['Census_OSArchitecture'].value_counts()"
   ]
  },
  {
   "cell_type": "code",
   "execution_count": 16,
   "metadata": {},
   "outputs": [
    {
     "data": {
      "text/plain": [
       "0    3954497\n",
       "1    2519925\n",
       "2    2034254\n",
       "3     371475\n",
       "4      26961\n",
       "5      14371\n",
       "Name: Census_OSWUAutoUpdateOptionsName, dtype: int64"
      ]
     },
     "execution_count": 16,
     "metadata": {},
     "output_type": "execute_result"
    }
   ],
   "source": [
    "# df['Census_OSWUAutoUpdateOptionsName'].value_counts()\n",
    "\n",
    "df['Census_OSWUAutoUpdateOptionsName'] = df['Census_OSWUAutoUpdateOptionsName'].replace(to_replace='FullAuto', value=0)\n",
    "df['Census_OSWUAutoUpdateOptionsName'] = df['Census_OSWUAutoUpdateOptionsName'].replace(to_replace='UNKNOWN', value=1)\n",
    "df['Census_OSWUAutoUpdateOptionsName'] = df['Census_OSWUAutoUpdateOptionsName'].replace(to_replace='Notify', value=2)\n",
    "df['Census_OSWUAutoUpdateOptionsName'] = df['Census_OSWUAutoUpdateOptionsName'].replace(to_replace='AutoInstallAndRebootAtMaintenanceTime', value=3)\n",
    "df['Census_OSWUAutoUpdateOptionsName'] = df['Census_OSWUAutoUpdateOptionsName'].replace(to_replace='Off', value=4)\n",
    "df['Census_OSWUAutoUpdateOptionsName'] = df['Census_OSWUAutoUpdateOptionsName'].replace(to_replace='DownloadNotify', value=5)\n",
    "\n",
    "df['Census_OSWUAutoUpdateOptionsName'].value_counts()\n"
   ]
  },
  {
   "cell_type": "code",
   "execution_count": 17,
   "metadata": {},
   "outputs": [
    {
     "data": {
      "text/plain": [
       "0    7877597\n",
       "1     801692\n",
       "2     228366\n",
       "3      13826\n",
       "4          2\n",
       "Name: Census_GenuineStateName, dtype: int64"
      ]
     },
     "execution_count": 17,
     "metadata": {},
     "output_type": "execute_result"
    }
   ],
   "source": [
    "#df['Census_GenuineStateName'].value_counts()\n",
    "\n",
    "df['Census_GenuineStateName'] = df['Census_GenuineStateName'].replace(to_replace='IS_GENUINE', value=0)\n",
    "df['Census_GenuineStateName'] = df['Census_GenuineStateName'].replace(to_replace='INVALID_LICENSE', value=1)\n",
    "df['Census_GenuineStateName'] = df['Census_GenuineStateName'].replace(to_replace='OFFLINE', value=2)\n",
    "df['Census_GenuineStateName'] = df['Census_GenuineStateName'].replace(to_replace='UNKNOWN', value=3)\n",
    "df['Census_GenuineStateName'] = df['Census_GenuineStateName'].replace(to_replace='TAMPERED', value=4)\n",
    "\n",
    "df['Census_GenuineStateName'].value_counts()\n"
   ]
  },
  {
   "cell_type": "code",
   "execution_count": 18,
   "metadata": {},
   "outputs": [
    {
     "data": {
      "text/plain": [
       "0    4727589\n",
       "1    3413350\n",
       "2     450954\n",
       "3     317980\n",
       "4       8028\n",
       "5       3582\n",
       "Name: Census_ActivationChannel, dtype: int64"
      ]
     },
     "execution_count": 18,
     "metadata": {},
     "output_type": "execute_result"
    }
   ],
   "source": [
    "#df['Census_ActivationChannel'].value_counts()\n",
    "\n",
    "df['Census_ActivationChannel'] = df['Census_ActivationChannel'].replace(to_replace='Retail', value=0)\n",
    "df['Census_ActivationChannel'] = df['Census_ActivationChannel'].replace(to_replace='OEM:DM', value=1)\n",
    "df['Census_ActivationChannel'] = df['Census_ActivationChannel'].replace(to_replace='Volume:GVLK', value=2)\n",
    "df['Census_ActivationChannel'] = df['Census_ActivationChannel'].replace(to_replace='OEM:NONSLP', value=3)\n",
    "df['Census_ActivationChannel'] = df['Census_ActivationChannel'].replace(to_replace='Volume:MAK', value=4)\n",
    "df['Census_ActivationChannel'] = df['Census_ActivationChannel'].replace(to_replace='Retail:TB:Eval', value=5)\n",
    "\n",
    "df['Census_ActivationChannel'].value_counts()"
   ]
  },
  {
   "cell_type": "code",
   "execution_count": 19,
   "metadata": {},
   "outputs": [
    {
     "data": {
      "text/plain": [
       "0    8355679\n",
       "1     287803\n",
       "2     243438\n",
       "3      10648\n",
       "4      10322\n",
       "5       9860\n",
       "6       3722\n",
       "7          7\n",
       "8          3\n",
       "9          1\n",
       "Name: Census_FlightRing, dtype: int64"
      ]
     },
     "execution_count": 19,
     "metadata": {},
     "output_type": "execute_result"
    }
   ],
   "source": [
    "# df['Census_FlightRing'].value_counts()\n",
    "\n",
    "df['Census_FlightRing'] = df['Census_FlightRing'].replace(to_replace='Retail', value=0)\n",
    "df['Census_FlightRing'] = df['Census_FlightRing'].replace(to_replace='NOT_SET', value=1)\n",
    "df['Census_FlightRing'] = df['Census_FlightRing'].replace(to_replace='Unknown', value=2)\n",
    "df['Census_FlightRing'] = df['Census_FlightRing'].replace(to_replace='WIS', value=3)\n",
    "df['Census_FlightRing'] = df['Census_FlightRing'].replace(to_replace='WIF', value=4)\n",
    "df['Census_FlightRing'] = df['Census_FlightRing'].replace(to_replace='RP', value=5)\n",
    "df['Census_FlightRing'] = df['Census_FlightRing'].replace(to_replace='Disabled', value=6)\n",
    "df['Census_FlightRing'] = df['Census_FlightRing'].replace(to_replace='OSG', value=7)\n",
    "df['Census_FlightRing'] = df['Census_FlightRing'].replace(to_replace='Canary', value=8)\n",
    "df['Census_FlightRing'] = df['Census_FlightRing'].replace(to_replace='Invalid', value=9)\n",
    "\n",
    "df['Census_FlightRing'].value_counts()"
   ]
  },
  {
   "cell_type": "code",
   "execution_count": 20,
   "metadata": {},
   "outputs": [],
   "source": [
    "#df['EngineVersion'].value_counts()\n",
    "#df['AppVersion'].value_counts()\n",
    "#df['AvSigVersion'].value_counts()\n",
    "#df['OsVer'].value_counts()\n",
    "#df['OsBuildLab'].value_counts()\n",
    "#df['PuaMode'].value_counts()\n",
    "#df['SmartScreen'].value_counts()\n",
    "#df['SmartScreen'].isnull().sum()\n",
    "#df['Census_ProcessorClass'].value_counts()\n",
    "#df['Census_ChassisTypeName'].value_counts()\n",
    "#df['Census_InternalBatteryType'].value_counts()\n",
    "#df['Census_OSVersion'].value_counts()\n",
    "#df['Census_OSBranch'].value_counts()\n",
    "#df['Census_OSEdition'].value_counts()\n",
    "#df['Census_OSSkuName'].value_counts()\n",
    "#df['Census_OSInstallTypeName'].value_counts()\n"
   ]
  },
  {
   "cell_type": "code",
   "execution_count": 21,
   "metadata": {},
   "outputs": [],
   "source": [
    "# se eliminan columnas\n",
    "df.drop(['MachineIdentifier', 'EngineVersion','AppVersion','AvSigVersion','OsVer','OsBuildLab','PuaMode','SmartScreen','SmartScreen','Census_ProcessorClass','Census_ChassisTypeName','Census_InternalBatteryType','Census_OSVersion','Census_OSBranch','Census_OSEdition','Census_OSSkuName','Census_OSInstallTypeName'], axis = 1, inplace = True)"
   ]
  },
  {
   "cell_type": "code",
   "execution_count": 22,
   "metadata": {},
   "outputs": [
    {
     "name": "stdout",
     "output_type": "stream",
     "text": [
      "DefaultBrowsersIdentifier 8488045\n",
      "CityIdentifier 325409\n",
      "OrganizationIdentifier 2751518\n",
      "SMode 537759\n",
      "Firewall 91350\n",
      "Census_OEMNameIdentifier 95478\n",
      "Census_OEMModelIdentifier 102233\n",
      "Census_TotalPhysicalRAM 80533\n",
      "Census_InternalBatteryNumberOfCharges 268755\n",
      "Census_IsFlightingInternal 7408759\n",
      "Census_IsFlightsDisabled 160523\n",
      "Census_ThresholdOptIn 5667325\n",
      "Census_FirmwareManufacturerIdentifier 183257\n",
      "Census_FirmwareVersionIdentifier 160133\n",
      "Census_IsWIMBootEnabled 5659703\n",
      "Wdft_IsGamer 303451\n",
      "Wdft_RegionIdentifier 303451\n"
     ]
    }
   ],
   "source": [
    "\n",
    "for column in df:\n",
    "    tn = df[column].isnull().sum()\n",
    "    if tn > 75000:\n",
    "        print(column, tn)\n",
    "\n",
    "    "
   ]
  },
  {
   "cell_type": "code",
   "execution_count": 23,
   "metadata": {},
   "outputs": [],
   "source": [
    "#eliminar columnas con mayor numero de nulos\n",
    "df.drop(['DefaultBrowsersIdentifier','CityIdentifier','OrganizationIdentifier','SMode','Firewall','Census_OEMNameIdentifier','Census_OEMModelIdentifier','Census_TotalPhysicalRAM','Census_InternalBatteryNumberOfCharges','Census_IsFlightingInternal','Census_IsFlightsDisabled','Census_ThresholdOptIn','Census_FirmwareManufacturerIdentifier','Census_FirmwareVersionIdentifier','Census_IsWIMBootEnabled','Wdft_IsGamer','Wdft_RegionIdentifier'], axis = 1, inplace = True)"
   ]
  },
  {
   "cell_type": "code",
   "execution_count": 24,
   "metadata": {},
   "outputs": [],
   "source": [
    "# eliminar las filas con nulos\n",
    "df = df.dropna()\n"
   ]
  },
  {
   "cell_type": "code",
   "execution_count": 25,
   "metadata": {},
   "outputs": [
    {
     "name": "stdout",
     "output_type": "stream",
     "text": [
      "<class 'pandas.core.frame.DataFrame'>\n",
      "Int64Index: 8588801 entries, 0 to 8921482\n",
      "Data columns (total 50 columns):\n",
      " #   Column                                             Dtype  \n",
      "---  ------                                             -----  \n",
      " 0   ProductName                                        int64  \n",
      " 1   IsBeta                                             int64  \n",
      " 2   RtpStateBitfield                                   float64\n",
      " 3   IsSxsPassiveMode                                   int64  \n",
      " 4   AVProductStatesIdentifier                          float64\n",
      " 5   AVProductsInstalled                                float64\n",
      " 6   AVProductsEnabled                                  float64\n",
      " 7   HasTpm                                             int64  \n",
      " 8   CountryIdentifier                                  int64  \n",
      " 9   GeoNameIdentifier                                  float64\n",
      " 10  LocaleEnglishNameIdentifier                        int64  \n",
      " 11  Platform                                           int64  \n",
      " 12  Processor                                          int64  \n",
      " 13  OsBuild                                            int64  \n",
      " 14  OsSuite                                            int64  \n",
      " 15  OsPlatformSubRelease                               int64  \n",
      " 16  SkuEdition                                         int64  \n",
      " 17  IsProtected                                        float64\n",
      " 18  AutoSampleOptIn                                    int64  \n",
      " 19  IeVerIdentifier                                    float64\n",
      " 20  UacLuaenable                                       float64\n",
      " 21  Census_MDC2FormFactor                              int64  \n",
      " 22  Census_DeviceFamily                                int64  \n",
      " 23  Census_ProcessorCoreCount                          float64\n",
      " 24  Census_ProcessorManufacturerIdentifier             float64\n",
      " 25  Census_ProcessorModelIdentifier                    float64\n",
      " 26  Census_PrimaryDiskTotalCapacity                    float64\n",
      " 27  Census_PrimaryDiskTypeName                         float64\n",
      " 28  Census_SystemVolumeTotalCapacity                   float64\n",
      " 29  Census_HasOpticalDiskDrive                         int64  \n",
      " 30  Census_InternalPrimaryDiagonalDisplaySizeInInches  float64\n",
      " 31  Census_InternalPrimaryDisplayResolutionHorizontal  float64\n",
      " 32  Census_InternalPrimaryDisplayResolutionVertical    float64\n",
      " 33  Census_PowerPlatformRoleName                       float64\n",
      " 34  Census_OSArchitecture                              int64  \n",
      " 35  Census_OSBuildNumber                               int64  \n",
      " 36  Census_OSBuildRevision                             int64  \n",
      " 37  Census_OSInstallLanguageIdentifier                 float64\n",
      " 38  Census_OSUILocaleIdentifier                        int64  \n",
      " 39  Census_OSWUAutoUpdateOptionsName                   int64  \n",
      " 40  Census_IsPortableOperatingSystem                   int64  \n",
      " 41  Census_GenuineStateName                            int64  \n",
      " 42  Census_ActivationChannel                           int64  \n",
      " 43  Census_FlightRing                                  int64  \n",
      " 44  Census_IsSecureBootEnabled                         int64  \n",
      " 45  Census_IsVirtualDevice                             float64\n",
      " 46  Census_IsTouchEnabled                              int64  \n",
      " 47  Census_IsPenCapable                                int64  \n",
      " 48  Census_IsAlwaysOnAlwaysConnectedCapable            float64\n",
      " 49  HasDetections                                      int64  \n",
      "dtypes: float64(21), int64(29)\n",
      "memory usage: 3.3 GB\n"
     ]
    }
   ],
   "source": [
    "df.info()"
   ]
  },
  {
   "cell_type": "code",
   "execution_count": 26,
   "metadata": {},
   "outputs": [
    {
     "data": {
      "text/html": [
       "<div>\n",
       "<style scoped>\n",
       "    .dataframe tbody tr th:only-of-type {\n",
       "        vertical-align: middle;\n",
       "    }\n",
       "\n",
       "    .dataframe tbody tr th {\n",
       "        vertical-align: top;\n",
       "    }\n",
       "\n",
       "    .dataframe thead th {\n",
       "        text-align: right;\n",
       "    }\n",
       "</style>\n",
       "<table border=\"1\" class=\"dataframe\">\n",
       "  <thead>\n",
       "    <tr style=\"text-align: right;\">\n",
       "      <th></th>\n",
       "      <th>ProductName</th>\n",
       "      <th>IsBeta</th>\n",
       "      <th>RtpStateBitfield</th>\n",
       "      <th>IsSxsPassiveMode</th>\n",
       "      <th>AVProductStatesIdentifier</th>\n",
       "      <th>AVProductsInstalled</th>\n",
       "      <th>AVProductsEnabled</th>\n",
       "      <th>HasTpm</th>\n",
       "      <th>CountryIdentifier</th>\n",
       "      <th>GeoNameIdentifier</th>\n",
       "      <th>...</th>\n",
       "      <th>Census_IsPortableOperatingSystem</th>\n",
       "      <th>Census_GenuineStateName</th>\n",
       "      <th>Census_ActivationChannel</th>\n",
       "      <th>Census_FlightRing</th>\n",
       "      <th>Census_IsSecureBootEnabled</th>\n",
       "      <th>Census_IsVirtualDevice</th>\n",
       "      <th>Census_IsTouchEnabled</th>\n",
       "      <th>Census_IsPenCapable</th>\n",
       "      <th>Census_IsAlwaysOnAlwaysConnectedCapable</th>\n",
       "      <th>HasDetections</th>\n",
       "    </tr>\n",
       "  </thead>\n",
       "  <tbody>\n",
       "    <tr>\n",
       "      <th>0</th>\n",
       "      <td>0</td>\n",
       "      <td>0</td>\n",
       "      <td>7.0</td>\n",
       "      <td>0</td>\n",
       "      <td>53447.0</td>\n",
       "      <td>1.0</td>\n",
       "      <td>1.0</td>\n",
       "      <td>1</td>\n",
       "      <td>29</td>\n",
       "      <td>35.0</td>\n",
       "      <td>...</td>\n",
       "      <td>0</td>\n",
       "      <td>0</td>\n",
       "      <td>0</td>\n",
       "      <td>0</td>\n",
       "      <td>0</td>\n",
       "      <td>0.0</td>\n",
       "      <td>0</td>\n",
       "      <td>0</td>\n",
       "      <td>0.0</td>\n",
       "      <td>0</td>\n",
       "    </tr>\n",
       "    <tr>\n",
       "      <th>1</th>\n",
       "      <td>0</td>\n",
       "      <td>0</td>\n",
       "      <td>7.0</td>\n",
       "      <td>0</td>\n",
       "      <td>53447.0</td>\n",
       "      <td>1.0</td>\n",
       "      <td>1.0</td>\n",
       "      <td>1</td>\n",
       "      <td>93</td>\n",
       "      <td>119.0</td>\n",
       "      <td>...</td>\n",
       "      <td>0</td>\n",
       "      <td>2</td>\n",
       "      <td>0</td>\n",
       "      <td>1</td>\n",
       "      <td>0</td>\n",
       "      <td>0.0</td>\n",
       "      <td>0</td>\n",
       "      <td>0</td>\n",
       "      <td>0.0</td>\n",
       "      <td>0</td>\n",
       "    </tr>\n",
       "    <tr>\n",
       "      <th>2</th>\n",
       "      <td>0</td>\n",
       "      <td>0</td>\n",
       "      <td>7.0</td>\n",
       "      <td>0</td>\n",
       "      <td>53447.0</td>\n",
       "      <td>1.0</td>\n",
       "      <td>1.0</td>\n",
       "      <td>1</td>\n",
       "      <td>86</td>\n",
       "      <td>64.0</td>\n",
       "      <td>...</td>\n",
       "      <td>0</td>\n",
       "      <td>0</td>\n",
       "      <td>3</td>\n",
       "      <td>0</td>\n",
       "      <td>0</td>\n",
       "      <td>0.0</td>\n",
       "      <td>0</td>\n",
       "      <td>0</td>\n",
       "      <td>0.0</td>\n",
       "      <td>0</td>\n",
       "    </tr>\n",
       "    <tr>\n",
       "      <th>3</th>\n",
       "      <td>0</td>\n",
       "      <td>0</td>\n",
       "      <td>7.0</td>\n",
       "      <td>0</td>\n",
       "      <td>53447.0</td>\n",
       "      <td>1.0</td>\n",
       "      <td>1.0</td>\n",
       "      <td>1</td>\n",
       "      <td>88</td>\n",
       "      <td>117.0</td>\n",
       "      <td>...</td>\n",
       "      <td>0</td>\n",
       "      <td>0</td>\n",
       "      <td>3</td>\n",
       "      <td>0</td>\n",
       "      <td>0</td>\n",
       "      <td>0.0</td>\n",
       "      <td>0</td>\n",
       "      <td>0</td>\n",
       "      <td>0.0</td>\n",
       "      <td>1</td>\n",
       "    </tr>\n",
       "    <tr>\n",
       "      <th>4</th>\n",
       "      <td>0</td>\n",
       "      <td>0</td>\n",
       "      <td>7.0</td>\n",
       "      <td>0</td>\n",
       "      <td>53447.0</td>\n",
       "      <td>1.0</td>\n",
       "      <td>1.0</td>\n",
       "      <td>1</td>\n",
       "      <td>18</td>\n",
       "      <td>277.0</td>\n",
       "      <td>...</td>\n",
       "      <td>0</td>\n",
       "      <td>0</td>\n",
       "      <td>0</td>\n",
       "      <td>0</td>\n",
       "      <td>0</td>\n",
       "      <td>0.0</td>\n",
       "      <td>0</td>\n",
       "      <td>0</td>\n",
       "      <td>0.0</td>\n",
       "      <td>1</td>\n",
       "    </tr>\n",
       "    <tr>\n",
       "      <th>5</th>\n",
       "      <td>0</td>\n",
       "      <td>0</td>\n",
       "      <td>7.0</td>\n",
       "      <td>0</td>\n",
       "      <td>53447.0</td>\n",
       "      <td>1.0</td>\n",
       "      <td>1.0</td>\n",
       "      <td>1</td>\n",
       "      <td>97</td>\n",
       "      <td>126.0</td>\n",
       "      <td>...</td>\n",
       "      <td>0</td>\n",
       "      <td>0</td>\n",
       "      <td>0</td>\n",
       "      <td>0</td>\n",
       "      <td>0</td>\n",
       "      <td>0.0</td>\n",
       "      <td>0</td>\n",
       "      <td>0</td>\n",
       "      <td>0.0</td>\n",
       "      <td>1</td>\n",
       "    </tr>\n",
       "    <tr>\n",
       "      <th>6</th>\n",
       "      <td>0</td>\n",
       "      <td>0</td>\n",
       "      <td>7.0</td>\n",
       "      <td>0</td>\n",
       "      <td>43927.0</td>\n",
       "      <td>2.0</td>\n",
       "      <td>1.0</td>\n",
       "      <td>1</td>\n",
       "      <td>78</td>\n",
       "      <td>89.0</td>\n",
       "      <td>...</td>\n",
       "      <td>0</td>\n",
       "      <td>0</td>\n",
       "      <td>0</td>\n",
       "      <td>0</td>\n",
       "      <td>1</td>\n",
       "      <td>0.0</td>\n",
       "      <td>0</td>\n",
       "      <td>0</td>\n",
       "      <td>0.0</td>\n",
       "      <td>1</td>\n",
       "    </tr>\n",
       "    <tr>\n",
       "      <th>7</th>\n",
       "      <td>0</td>\n",
       "      <td>0</td>\n",
       "      <td>7.0</td>\n",
       "      <td>0</td>\n",
       "      <td>53447.0</td>\n",
       "      <td>1.0</td>\n",
       "      <td>1.0</td>\n",
       "      <td>1</td>\n",
       "      <td>97</td>\n",
       "      <td>126.0</td>\n",
       "      <td>...</td>\n",
       "      <td>0</td>\n",
       "      <td>0</td>\n",
       "      <td>0</td>\n",
       "      <td>0</td>\n",
       "      <td>0</td>\n",
       "      <td>0.0</td>\n",
       "      <td>0</td>\n",
       "      <td>0</td>\n",
       "      <td>0.0</td>\n",
       "      <td>0</td>\n",
       "    </tr>\n",
       "    <tr>\n",
       "      <th>8</th>\n",
       "      <td>0</td>\n",
       "      <td>0</td>\n",
       "      <td>7.0</td>\n",
       "      <td>0</td>\n",
       "      <td>53447.0</td>\n",
       "      <td>1.0</td>\n",
       "      <td>1.0</td>\n",
       "      <td>1</td>\n",
       "      <td>164</td>\n",
       "      <td>205.0</td>\n",
       "      <td>...</td>\n",
       "      <td>0</td>\n",
       "      <td>0</td>\n",
       "      <td>0</td>\n",
       "      <td>0</td>\n",
       "      <td>0</td>\n",
       "      <td>0.0</td>\n",
       "      <td>0</td>\n",
       "      <td>0</td>\n",
       "      <td>0.0</td>\n",
       "      <td>0</td>\n",
       "    </tr>\n",
       "    <tr>\n",
       "      <th>10</th>\n",
       "      <td>0</td>\n",
       "      <td>0</td>\n",
       "      <td>7.0</td>\n",
       "      <td>0</td>\n",
       "      <td>53447.0</td>\n",
       "      <td>1.0</td>\n",
       "      <td>1.0</td>\n",
       "      <td>1</td>\n",
       "      <td>107</td>\n",
       "      <td>138.0</td>\n",
       "      <td>...</td>\n",
       "      <td>0</td>\n",
       "      <td>0</td>\n",
       "      <td>0</td>\n",
       "      <td>0</td>\n",
       "      <td>0</td>\n",
       "      <td>0.0</td>\n",
       "      <td>1</td>\n",
       "      <td>1</td>\n",
       "      <td>1.0</td>\n",
       "      <td>0</td>\n",
       "    </tr>\n",
       "  </tbody>\n",
       "</table>\n",
       "<p>10 rows × 50 columns</p>\n",
       "</div>"
      ],
      "text/plain": [
       "    ProductName  IsBeta  RtpStateBitfield  IsSxsPassiveMode  \\\n",
       "0             0       0               7.0                 0   \n",
       "1             0       0               7.0                 0   \n",
       "2             0       0               7.0                 0   \n",
       "3             0       0               7.0                 0   \n",
       "4             0       0               7.0                 0   \n",
       "5             0       0               7.0                 0   \n",
       "6             0       0               7.0                 0   \n",
       "7             0       0               7.0                 0   \n",
       "8             0       0               7.0                 0   \n",
       "10            0       0               7.0                 0   \n",
       "\n",
       "    AVProductStatesIdentifier  AVProductsInstalled  AVProductsEnabled  HasTpm  \\\n",
       "0                     53447.0                  1.0                1.0       1   \n",
       "1                     53447.0                  1.0                1.0       1   \n",
       "2                     53447.0                  1.0                1.0       1   \n",
       "3                     53447.0                  1.0                1.0       1   \n",
       "4                     53447.0                  1.0                1.0       1   \n",
       "5                     53447.0                  1.0                1.0       1   \n",
       "6                     43927.0                  2.0                1.0       1   \n",
       "7                     53447.0                  1.0                1.0       1   \n",
       "8                     53447.0                  1.0                1.0       1   \n",
       "10                    53447.0                  1.0                1.0       1   \n",
       "\n",
       "    CountryIdentifier  GeoNameIdentifier  ...  \\\n",
       "0                  29               35.0  ...   \n",
       "1                  93              119.0  ...   \n",
       "2                  86               64.0  ...   \n",
       "3                  88              117.0  ...   \n",
       "4                  18              277.0  ...   \n",
       "5                  97              126.0  ...   \n",
       "6                  78               89.0  ...   \n",
       "7                  97              126.0  ...   \n",
       "8                 164              205.0  ...   \n",
       "10                107              138.0  ...   \n",
       "\n",
       "    Census_IsPortableOperatingSystem  Census_GenuineStateName  \\\n",
       "0                                  0                        0   \n",
       "1                                  0                        2   \n",
       "2                                  0                        0   \n",
       "3                                  0                        0   \n",
       "4                                  0                        0   \n",
       "5                                  0                        0   \n",
       "6                                  0                        0   \n",
       "7                                  0                        0   \n",
       "8                                  0                        0   \n",
       "10                                 0                        0   \n",
       "\n",
       "    Census_ActivationChannel  Census_FlightRing  Census_IsSecureBootEnabled  \\\n",
       "0                          0                  0                           0   \n",
       "1                          0                  1                           0   \n",
       "2                          3                  0                           0   \n",
       "3                          3                  0                           0   \n",
       "4                          0                  0                           0   \n",
       "5                          0                  0                           0   \n",
       "6                          0                  0                           1   \n",
       "7                          0                  0                           0   \n",
       "8                          0                  0                           0   \n",
       "10                         0                  0                           0   \n",
       "\n",
       "    Census_IsVirtualDevice  Census_IsTouchEnabled  Census_IsPenCapable  \\\n",
       "0                      0.0                      0                    0   \n",
       "1                      0.0                      0                    0   \n",
       "2                      0.0                      0                    0   \n",
       "3                      0.0                      0                    0   \n",
       "4                      0.0                      0                    0   \n",
       "5                      0.0                      0                    0   \n",
       "6                      0.0                      0                    0   \n",
       "7                      0.0                      0                    0   \n",
       "8                      0.0                      0                    0   \n",
       "10                     0.0                      1                    1   \n",
       "\n",
       "    Census_IsAlwaysOnAlwaysConnectedCapable  HasDetections  \n",
       "0                                       0.0              0  \n",
       "1                                       0.0              0  \n",
       "2                                       0.0              0  \n",
       "3                                       0.0              1  \n",
       "4                                       0.0              1  \n",
       "5                                       0.0              1  \n",
       "6                                       0.0              1  \n",
       "7                                       0.0              0  \n",
       "8                                       0.0              0  \n",
       "10                                      1.0              0  \n",
       "\n",
       "[10 rows x 50 columns]"
      ]
     },
     "execution_count": 26,
     "metadata": {},
     "output_type": "execute_result"
    }
   ],
   "source": [
    "df.head(10)"
   ]
  },
  {
   "cell_type": "code",
   "execution_count": 27,
   "metadata": {},
   "outputs": [
    {
     "name": "stdout",
     "output_type": "stream",
     "text": [
      "ProductName 0\n",
      "IsBeta 0\n",
      "RtpStateBitfield 0\n",
      "IsSxsPassiveMode 0\n",
      "AVProductStatesIdentifier 0\n",
      "AVProductsInstalled 0\n",
      "AVProductsEnabled 0\n",
      "HasTpm 0\n",
      "CountryIdentifier 0\n",
      "GeoNameIdentifier 0\n",
      "LocaleEnglishNameIdentifier 0\n",
      "Platform 0\n",
      "Processor 0\n",
      "OsBuild 0\n",
      "OsSuite 0\n",
      "OsPlatformSubRelease 0\n",
      "SkuEdition 0\n",
      "IsProtected 0\n",
      "AutoSampleOptIn 0\n",
      "IeVerIdentifier 0\n",
      "UacLuaenable 0\n",
      "Census_MDC2FormFactor 0\n",
      "Census_DeviceFamily 0\n",
      "Census_ProcessorCoreCount 0\n",
      "Census_ProcessorManufacturerIdentifier 0\n",
      "Census_ProcessorModelIdentifier 0\n",
      "Census_PrimaryDiskTotalCapacity 0\n",
      "Census_PrimaryDiskTypeName 0\n",
      "Census_SystemVolumeTotalCapacity 0\n",
      "Census_HasOpticalDiskDrive 0\n",
      "Census_InternalPrimaryDiagonalDisplaySizeInInches 0\n",
      "Census_InternalPrimaryDisplayResolutionHorizontal 0\n",
      "Census_InternalPrimaryDisplayResolutionVertical 0\n",
      "Census_PowerPlatformRoleName 0\n",
      "Census_OSArchitecture 0\n",
      "Census_OSBuildNumber 0\n",
      "Census_OSBuildRevision 0\n",
      "Census_OSInstallLanguageIdentifier 0\n",
      "Census_OSUILocaleIdentifier 0\n",
      "Census_OSWUAutoUpdateOptionsName 0\n",
      "Census_IsPortableOperatingSystem 0\n",
      "Census_GenuineStateName 0\n",
      "Census_ActivationChannel 0\n",
      "Census_FlightRing 0\n",
      "Census_IsSecureBootEnabled 0\n",
      "Census_IsVirtualDevice 0\n",
      "Census_IsTouchEnabled 0\n",
      "Census_IsPenCapable 0\n",
      "Census_IsAlwaysOnAlwaysConnectedCapable 0\n",
      "HasDetections 0\n"
     ]
    }
   ],
   "source": [
    "for column in df:\n",
    "    tn = df[column].isnull().sum()\n",
    "    print(column, tn)"
   ]
  },
  {
   "cell_type": "code",
   "execution_count": 28,
   "metadata": {},
   "outputs": [
    {
     "name": "stderr",
     "output_type": "stream",
     "text": [
      "C:\\Users\\cesarvin\\AppData\\Local\\Temp\\ipykernel_17304\\4201712440.py:1: SettingWithCopyWarning: \n",
      "A value is trying to be set on a copy of a slice from a DataFrame.\n",
      "Try using .loc[row_indexer,col_indexer] = value instead\n",
      "\n",
      "See the caveats in the documentation: https://pandas.pydata.org/pandas-docs/stable/user_guide/indexing.html#returning-a-view-versus-a-copy\n",
      "  df['IsProtected'] = df['IsProtected'].apply(np.int64)\n",
      "C:\\Users\\cesarvin\\AppData\\Local\\Temp\\ipykernel_17304\\4201712440.py:2: SettingWithCopyWarning: \n",
      "A value is trying to be set on a copy of a slice from a DataFrame.\n",
      "Try using .loc[row_indexer,col_indexer] = value instead\n",
      "\n",
      "See the caveats in the documentation: https://pandas.pydata.org/pandas-docs/stable/user_guide/indexing.html#returning-a-view-versus-a-copy\n",
      "  df['Census_IsVirtualDevice'] = df['Census_IsVirtualDevice'].apply(np.int64)\n",
      "C:\\Users\\cesarvin\\AppData\\Local\\Temp\\ipykernel_17304\\4201712440.py:3: SettingWithCopyWarning: \n",
      "A value is trying to be set on a copy of a slice from a DataFrame.\n",
      "Try using .loc[row_indexer,col_indexer] = value instead\n",
      "\n",
      "See the caveats in the documentation: https://pandas.pydata.org/pandas-docs/stable/user_guide/indexing.html#returning-a-view-versus-a-copy\n",
      "  df['Census_IsAlwaysOnAlwaysConnectedCapable'] = df['Census_IsAlwaysOnAlwaysConnectedCapable'].apply(np.int64)\n"
     ]
    }
   ],
   "source": [
    "df['IsProtected'] = df['IsProtected'].apply(np.int64)\n",
    "df['Census_IsVirtualDevice'] = df['Census_IsVirtualDevice'].apply(np.int64)\n",
    "df['Census_IsAlwaysOnAlwaysConnectedCapable'] = df['Census_IsAlwaysOnAlwaysConnectedCapable'].apply(np.int64)"
   ]
  },
  {
   "cell_type": "code",
   "execution_count": 29,
   "metadata": {},
   "outputs": [
    {
     "name": "stderr",
     "output_type": "stream",
     "text": [
      "C:\\Users\\cesarvin\\AppData\\Local\\Temp\\ipykernel_17304\\1421968633.py:1: SettingWithCopyWarning: \n",
      "A value is trying to be set on a copy of a slice from a DataFrame.\n",
      "Try using .loc[row_indexer,col_indexer] = value instead\n",
      "\n",
      "See the caveats in the documentation: https://pandas.pydata.org/pandas-docs/stable/user_guide/indexing.html#returning-a-view-versus-a-copy\n",
      "  df['RtpStateBitfield'] = df['RtpStateBitfield'].apply(np.int64)\n",
      "C:\\Users\\cesarvin\\AppData\\Local\\Temp\\ipykernel_17304\\1421968633.py:2: SettingWithCopyWarning: \n",
      "A value is trying to be set on a copy of a slice from a DataFrame.\n",
      "Try using .loc[row_indexer,col_indexer] = value instead\n",
      "\n",
      "See the caveats in the documentation: https://pandas.pydata.org/pandas-docs/stable/user_guide/indexing.html#returning-a-view-versus-a-copy\n",
      "  df['AVProductStatesIdentifier'] = df['AVProductStatesIdentifier'].apply(np.int64)\n",
      "C:\\Users\\cesarvin\\AppData\\Local\\Temp\\ipykernel_17304\\1421968633.py:3: SettingWithCopyWarning: \n",
      "A value is trying to be set on a copy of a slice from a DataFrame.\n",
      "Try using .loc[row_indexer,col_indexer] = value instead\n",
      "\n",
      "See the caveats in the documentation: https://pandas.pydata.org/pandas-docs/stable/user_guide/indexing.html#returning-a-view-versus-a-copy\n",
      "  df['AVProductsInstalled'] = df['AVProductsInstalled'].apply(np.int64)\n",
      "C:\\Users\\cesarvin\\AppData\\Local\\Temp\\ipykernel_17304\\1421968633.py:4: SettingWithCopyWarning: \n",
      "A value is trying to be set on a copy of a slice from a DataFrame.\n",
      "Try using .loc[row_indexer,col_indexer] = value instead\n",
      "\n",
      "See the caveats in the documentation: https://pandas.pydata.org/pandas-docs/stable/user_guide/indexing.html#returning-a-view-versus-a-copy\n",
      "  df['AVProductsEnabled'] = df['AVProductsEnabled'].apply(np.int64)\n",
      "C:\\Users\\cesarvin\\AppData\\Local\\Temp\\ipykernel_17304\\1421968633.py:5: SettingWithCopyWarning: \n",
      "A value is trying to be set on a copy of a slice from a DataFrame.\n",
      "Try using .loc[row_indexer,col_indexer] = value instead\n",
      "\n",
      "See the caveats in the documentation: https://pandas.pydata.org/pandas-docs/stable/user_guide/indexing.html#returning-a-view-versus-a-copy\n",
      "  df['GeoNameIdentifier'] = df['GeoNameIdentifier'].apply(np.int64)\n",
      "C:\\Users\\cesarvin\\AppData\\Local\\Temp\\ipykernel_17304\\1421968633.py:6: SettingWithCopyWarning: \n",
      "A value is trying to be set on a copy of a slice from a DataFrame.\n",
      "Try using .loc[row_indexer,col_indexer] = value instead\n",
      "\n",
      "See the caveats in the documentation: https://pandas.pydata.org/pandas-docs/stable/user_guide/indexing.html#returning-a-view-versus-a-copy\n",
      "  df['IeVerIdentifier'] = df['IeVerIdentifier'].apply(np.int64)\n",
      "C:\\Users\\cesarvin\\AppData\\Local\\Temp\\ipykernel_17304\\1421968633.py:7: SettingWithCopyWarning: \n",
      "A value is trying to be set on a copy of a slice from a DataFrame.\n",
      "Try using .loc[row_indexer,col_indexer] = value instead\n",
      "\n",
      "See the caveats in the documentation: https://pandas.pydata.org/pandas-docs/stable/user_guide/indexing.html#returning-a-view-versus-a-copy\n",
      "  df['UacLuaenable'] = df['UacLuaenable'].apply(np.int64)\n",
      "C:\\Users\\cesarvin\\AppData\\Local\\Temp\\ipykernel_17304\\1421968633.py:8: SettingWithCopyWarning: \n",
      "A value is trying to be set on a copy of a slice from a DataFrame.\n",
      "Try using .loc[row_indexer,col_indexer] = value instead\n",
      "\n",
      "See the caveats in the documentation: https://pandas.pydata.org/pandas-docs/stable/user_guide/indexing.html#returning-a-view-versus-a-copy\n",
      "  df['Census_ProcessorCoreCount'] = df['Census_ProcessorCoreCount'].apply(np.int64)\n",
      "C:\\Users\\cesarvin\\AppData\\Local\\Temp\\ipykernel_17304\\1421968633.py:9: SettingWithCopyWarning: \n",
      "A value is trying to be set on a copy of a slice from a DataFrame.\n",
      "Try using .loc[row_indexer,col_indexer] = value instead\n",
      "\n",
      "See the caveats in the documentation: https://pandas.pydata.org/pandas-docs/stable/user_guide/indexing.html#returning-a-view-versus-a-copy\n",
      "  df['Census_ProcessorManufacturerIdentifier'] = df['Census_ProcessorManufacturerIdentifier'].apply(np.int64)\n",
      "C:\\Users\\cesarvin\\AppData\\Local\\Temp\\ipykernel_17304\\1421968633.py:10: SettingWithCopyWarning: \n",
      "A value is trying to be set on a copy of a slice from a DataFrame.\n",
      "Try using .loc[row_indexer,col_indexer] = value instead\n",
      "\n",
      "See the caveats in the documentation: https://pandas.pydata.org/pandas-docs/stable/user_guide/indexing.html#returning-a-view-versus-a-copy\n",
      "  df['Census_ProcessorModelIdentifier'] = df['Census_ProcessorModelIdentifier'].apply(np.int64)\n",
      "C:\\Users\\cesarvin\\AppData\\Local\\Temp\\ipykernel_17304\\1421968633.py:11: SettingWithCopyWarning: \n",
      "A value is trying to be set on a copy of a slice from a DataFrame.\n",
      "Try using .loc[row_indexer,col_indexer] = value instead\n",
      "\n",
      "See the caveats in the documentation: https://pandas.pydata.org/pandas-docs/stable/user_guide/indexing.html#returning-a-view-versus-a-copy\n",
      "  df['Census_PrimaryDiskTotalCapacity'] = df['Census_PrimaryDiskTotalCapacity'].apply(np.int64)\n",
      "C:\\Users\\cesarvin\\AppData\\Local\\Temp\\ipykernel_17304\\1421968633.py:12: SettingWithCopyWarning: \n",
      "A value is trying to be set on a copy of a slice from a DataFrame.\n",
      "Try using .loc[row_indexer,col_indexer] = value instead\n",
      "\n",
      "See the caveats in the documentation: https://pandas.pydata.org/pandas-docs/stable/user_guide/indexing.html#returning-a-view-versus-a-copy\n",
      "  df['Census_PrimaryDiskTypeName'] = df['Census_PrimaryDiskTypeName'].apply(np.int64)\n",
      "C:\\Users\\cesarvin\\AppData\\Local\\Temp\\ipykernel_17304\\1421968633.py:13: SettingWithCopyWarning: \n",
      "A value is trying to be set on a copy of a slice from a DataFrame.\n",
      "Try using .loc[row_indexer,col_indexer] = value instead\n",
      "\n",
      "See the caveats in the documentation: https://pandas.pydata.org/pandas-docs/stable/user_guide/indexing.html#returning-a-view-versus-a-copy\n",
      "  df['Census_SystemVolumeTotalCapacity'] = df['Census_SystemVolumeTotalCapacity'].apply(np.int64)\n",
      "C:\\Users\\cesarvin\\AppData\\Local\\Temp\\ipykernel_17304\\1421968633.py:14: SettingWithCopyWarning: \n",
      "A value is trying to be set on a copy of a slice from a DataFrame.\n",
      "Try using .loc[row_indexer,col_indexer] = value instead\n",
      "\n",
      "See the caveats in the documentation: https://pandas.pydata.org/pandas-docs/stable/user_guide/indexing.html#returning-a-view-versus-a-copy\n",
      "  df['Census_InternalPrimaryDiagonalDisplaySizeInInches'] = df['Census_InternalPrimaryDiagonalDisplaySizeInInches'].apply(np.int64)\n",
      "C:\\Users\\cesarvin\\AppData\\Local\\Temp\\ipykernel_17304\\1421968633.py:15: SettingWithCopyWarning: \n",
      "A value is trying to be set on a copy of a slice from a DataFrame.\n",
      "Try using .loc[row_indexer,col_indexer] = value instead\n",
      "\n",
      "See the caveats in the documentation: https://pandas.pydata.org/pandas-docs/stable/user_guide/indexing.html#returning-a-view-versus-a-copy\n",
      "  df['Census_InternalPrimaryDisplayResolutionHorizontal'] = df['Census_InternalPrimaryDisplayResolutionHorizontal'].apply(np.int64)\n",
      "C:\\Users\\cesarvin\\AppData\\Local\\Temp\\ipykernel_17304\\1421968633.py:16: SettingWithCopyWarning: \n",
      "A value is trying to be set on a copy of a slice from a DataFrame.\n",
      "Try using .loc[row_indexer,col_indexer] = value instead\n",
      "\n",
      "See the caveats in the documentation: https://pandas.pydata.org/pandas-docs/stable/user_guide/indexing.html#returning-a-view-versus-a-copy\n",
      "  df['Census_InternalPrimaryDisplayResolutionVertical'] = df['Census_InternalPrimaryDisplayResolutionVertical'].apply(np.int64)\n",
      "C:\\Users\\cesarvin\\AppData\\Local\\Temp\\ipykernel_17304\\1421968633.py:17: SettingWithCopyWarning: \n",
      "A value is trying to be set on a copy of a slice from a DataFrame.\n",
      "Try using .loc[row_indexer,col_indexer] = value instead\n",
      "\n",
      "See the caveats in the documentation: https://pandas.pydata.org/pandas-docs/stable/user_guide/indexing.html#returning-a-view-versus-a-copy\n",
      "  df['Census_PowerPlatformRoleName'] = df['Census_PowerPlatformRoleName'].apply(np.int64)\n",
      "C:\\Users\\cesarvin\\AppData\\Local\\Temp\\ipykernel_17304\\1421968633.py:18: SettingWithCopyWarning: \n",
      "A value is trying to be set on a copy of a slice from a DataFrame.\n",
      "Try using .loc[row_indexer,col_indexer] = value instead\n",
      "\n",
      "See the caveats in the documentation: https://pandas.pydata.org/pandas-docs/stable/user_guide/indexing.html#returning-a-view-versus-a-copy\n",
      "  df['Census_OSInstallLanguageIdentifier'] = df['Census_OSInstallLanguageIdentifier'].apply(np.int64)\n"
     ]
    }
   ],
   "source": [
    "df['RtpStateBitfield'] = df['RtpStateBitfield'].apply(np.int64)\n",
    "df['AVProductStatesIdentifier'] = df['AVProductStatesIdentifier'].apply(np.int64)\n",
    "df['AVProductsInstalled'] = df['AVProductsInstalled'].apply(np.int64)\n",
    "df['AVProductsEnabled'] = df['AVProductsEnabled'].apply(np.int64)\n",
    "df['GeoNameIdentifier'] = df['GeoNameIdentifier'].apply(np.int64)\n",
    "df['IeVerIdentifier'] = df['IeVerIdentifier'].apply(np.int64)\n",
    "df['UacLuaenable'] = df['UacLuaenable'].apply(np.int64)\n",
    "df['Census_ProcessorCoreCount'] = df['Census_ProcessorCoreCount'].apply(np.int64)\n",
    "df['Census_ProcessorManufacturerIdentifier'] = df['Census_ProcessorManufacturerIdentifier'].apply(np.int64)\n",
    "df['Census_ProcessorModelIdentifier'] = df['Census_ProcessorModelIdentifier'].apply(np.int64)\n",
    "df['Census_PrimaryDiskTotalCapacity'] = df['Census_PrimaryDiskTotalCapacity'].apply(np.int64)\n",
    "df['Census_PrimaryDiskTypeName'] = df['Census_PrimaryDiskTypeName'].apply(np.int64)\n",
    "df['Census_SystemVolumeTotalCapacity'] = df['Census_SystemVolumeTotalCapacity'].apply(np.int64)\n",
    "df['Census_InternalPrimaryDiagonalDisplaySizeInInches'] = df['Census_InternalPrimaryDiagonalDisplaySizeInInches'].apply(np.int64)\n",
    "df['Census_InternalPrimaryDisplayResolutionHorizontal'] = df['Census_InternalPrimaryDisplayResolutionHorizontal'].apply(np.int64)\n",
    "df['Census_InternalPrimaryDisplayResolutionVertical'] = df['Census_InternalPrimaryDisplayResolutionVertical'].apply(np.int64)\n",
    "df['Census_PowerPlatformRoleName'] = df['Census_PowerPlatformRoleName'].apply(np.int64)\n",
    "df['Census_OSInstallLanguageIdentifier'] = df['Census_OSInstallLanguageIdentifier'].apply(np.int64)"
   ]
  },
  {
   "cell_type": "code",
   "execution_count": 30,
   "metadata": {},
   "outputs": [
    {
     "name": "stdout",
     "output_type": "stream",
     "text": [
      "<class 'pandas.core.frame.DataFrame'>\n",
      "Int64Index: 8588801 entries, 0 to 8921482\n",
      "Data columns (total 50 columns):\n",
      " #   Column                                             Dtype\n",
      "---  ------                                             -----\n",
      " 0   ProductName                                        int64\n",
      " 1   IsBeta                                             int64\n",
      " 2   RtpStateBitfield                                   int64\n",
      " 3   IsSxsPassiveMode                                   int64\n",
      " 4   AVProductStatesIdentifier                          int64\n",
      " 5   AVProductsInstalled                                int64\n",
      " 6   AVProductsEnabled                                  int64\n",
      " 7   HasTpm                                             int64\n",
      " 8   CountryIdentifier                                  int64\n",
      " 9   GeoNameIdentifier                                  int64\n",
      " 10  LocaleEnglishNameIdentifier                        int64\n",
      " 11  Platform                                           int64\n",
      " 12  Processor                                          int64\n",
      " 13  OsBuild                                            int64\n",
      " 14  OsSuite                                            int64\n",
      " 15  OsPlatformSubRelease                               int64\n",
      " 16  SkuEdition                                         int64\n",
      " 17  IsProtected                                        int64\n",
      " 18  AutoSampleOptIn                                    int64\n",
      " 19  IeVerIdentifier                                    int64\n",
      " 20  UacLuaenable                                       int64\n",
      " 21  Census_MDC2FormFactor                              int64\n",
      " 22  Census_DeviceFamily                                int64\n",
      " 23  Census_ProcessorCoreCount                          int64\n",
      " 24  Census_ProcessorManufacturerIdentifier             int64\n",
      " 25  Census_ProcessorModelIdentifier                    int64\n",
      " 26  Census_PrimaryDiskTotalCapacity                    int64\n",
      " 27  Census_PrimaryDiskTypeName                         int64\n",
      " 28  Census_SystemVolumeTotalCapacity                   int64\n",
      " 29  Census_HasOpticalDiskDrive                         int64\n",
      " 30  Census_InternalPrimaryDiagonalDisplaySizeInInches  int64\n",
      " 31  Census_InternalPrimaryDisplayResolutionHorizontal  int64\n",
      " 32  Census_InternalPrimaryDisplayResolutionVertical    int64\n",
      " 33  Census_PowerPlatformRoleName                       int64\n",
      " 34  Census_OSArchitecture                              int64\n",
      " 35  Census_OSBuildNumber                               int64\n",
      " 36  Census_OSBuildRevision                             int64\n",
      " 37  Census_OSInstallLanguageIdentifier                 int64\n",
      " 38  Census_OSUILocaleIdentifier                        int64\n",
      " 39  Census_OSWUAutoUpdateOptionsName                   int64\n",
      " 40  Census_IsPortableOperatingSystem                   int64\n",
      " 41  Census_GenuineStateName                            int64\n",
      " 42  Census_ActivationChannel                           int64\n",
      " 43  Census_FlightRing                                  int64\n",
      " 44  Census_IsSecureBootEnabled                         int64\n",
      " 45  Census_IsVirtualDevice                             int64\n",
      " 46  Census_IsTouchEnabled                              int64\n",
      " 47  Census_IsPenCapable                                int64\n",
      " 48  Census_IsAlwaysOnAlwaysConnectedCapable            int64\n",
      " 49  HasDetections                                      int64\n",
      "dtypes: int64(50)\n",
      "memory usage: 3.3 GB\n"
     ]
    }
   ],
   "source": [
    "df.info()"
   ]
  },
  {
   "cell_type": "code",
   "execution_count": 31,
   "metadata": {},
   "outputs": [],
   "source": [
    "df.to_csv('clean_train.csv', index=False)"
   ]
  }
 ],
 "metadata": {
  "interpreter": {
   "hash": "b89b5cfaba6639976dc87ff2fec6d58faec662063367e2c229c520fe71072417"
  },
  "kernelspec": {
   "display_name": "Python 3.10.3 64-bit",
   "language": "python",
   "name": "python3"
  },
  "language_info": {
   "codemirror_mode": {
    "name": "ipython",
    "version": 3
   },
   "file_extension": ".py",
   "mimetype": "text/x-python",
   "name": "python",
   "nbconvert_exporter": "python",
   "pygments_lexer": "ipython3",
   "version": "3.10.3"
  },
  "orig_nbformat": 4
 },
 "nbformat": 4,
 "nbformat_minor": 2
}
